{
 "cells": [
  {
   "cell_type": "markdown",
   "id": "ed144ddf",
   "metadata": {},
   "source": [
    "# Preprocessing"
   ]
  },
  {
   "cell_type": "code",
   "execution_count": 2,
   "id": "50ccd670",
   "metadata": {
    "ExecuteTime": {
     "end_time": "2021-11-30T09:45:17.299670Z",
     "start_time": "2021-11-30T09:45:17.282840Z"
    }
   },
   "outputs": [],
   "source": [
    "import re\n",
    "import string\n",
    "\n",
    "import nltk\n",
    "from nltk.tokenize import WordPunctTokenizer\n",
    "from nltk.corpus import stopwords\n",
    "from nltk.stem import WordNetLemmatizer"
   ]
  },
  {
   "cell_type": "markdown",
   "id": "8ba66cb6",
   "metadata": {},
   "source": [
    "In this section we preprocess..."
   ]
  },
  {
   "cell_type": "code",
   "execution_count": null,
   "id": "543a7d50",
   "metadata": {},
   "outputs": [],
   "source": [
    "# functions for preprocessing\n",
    "def clean_text(text):\n",
    "    # get relevant text (exclude references)\n",
    "    text = text.split('See also')[0]\n",
    "    text = text.lower()\n",
    "    # remove line break\n",
    "    text = re.sub('\\n', '', text)\n",
    "    text = re.sub('\\'', '', text)\n",
    "    text = re.sub('•', '', text) \n",
    "    text = re.sub('—', '', text)\n",
    "    # remove punctuation\n",
    "    text = re.sub(\"[’‘\\\"\\“\\”]\",\"\",text)\n",
    "    text = text.translate(str.maketrans('', '', string.punctuation))\n",
    "    return text\n",
    "\n",
    "#Remove default stopwords\n",
    "def remove_stopwords(text): \n",
    "    patterns = set(stopwords.words('english'))\n",
    "    for pattern in patterns:\n",
    "        if re.search(' '+pattern+' ', text):           #Searching for stopwords bounded by whitespace in each tweet\n",
    "            text = re.sub(' '+pattern+' ', ' ', text)  #Substituting stopwords with whitespace\n",
    "    return text\n",
    "\n",
    "def lemmatize(text):\n",
    "    \n",
    "    lemmatizer = WordNetLemmatizer()\n",
    "    text = word_tokenize(text)      #Creating lemmatizer.\n",
    "                                        #Tokenizing, as lemmatizer only takes tokenized sentences\n",
    "    sent_lemmatized = []                    #Empty list to save lemmatized sentence\n",
    "\n",
    "    for word in text:\n",
    "        lemma = lemmatizer.lemmatize(word)  #Where the magic happens\n",
    "        sent_lemmatized.append(lemma)\n",
    "    \n",
    "    return ' '.join(sent_lemmatized)\n",
    "\n",
    "def word_tokenize(text):\n",
    "    text = WordPunctTokenizer().tokenize(text)\n",
    "    return text"
   ]
  },
  {
   "cell_type": "code",
   "execution_count": null,
   "id": "cc458347",
   "metadata": {},
   "outputs": [],
   "source": [
    "df['cleaned_text'] = df['text'].astype(str).apply(lambda x: clean_text(x)) #contains stopwords\n",
    "df['lemmatized'] = df['cleaned_text'].astype(str).apply(lambda x: remove_stopwords(x)) #removing stopwords\n",
    "df['lemmatized'] = df['lemmatized'].astype(str).apply(lambda x: lemmatize(x))\n",
    "df['tokens'] = df['lemmatized'].astype(str).apply(lambda x: word_tokenize(x))"
   ]
  },
  {
   "cell_type": "code",
   "execution_count": null,
   "id": "81d3a9f7",
   "metadata": {},
   "outputs": [],
   "source": []
  },
  {
   "cell_type": "code",
   "execution_count": null,
   "id": "0b0c9b12",
   "metadata": {},
   "outputs": [],
   "source": []
  },
  {
   "cell_type": "code",
   "execution_count": null,
   "id": "965bfd30",
   "metadata": {},
   "outputs": [],
   "source": []
  }
 ],
 "metadata": {
  "kernelspec": {
   "display_name": "Python 3",
   "language": "python",
   "name": "python3"
  },
  "language_info": {
   "codemirror_mode": {
    "name": "ipython",
    "version": 3
   },
   "file_extension": ".py",
   "mimetype": "text/x-python",
   "name": "python",
   "nbconvert_exporter": "python",
   "pygments_lexer": "ipython3",
   "version": "3.8.8"
  }
 },
 "nbformat": 4,
 "nbformat_minor": 5
}
