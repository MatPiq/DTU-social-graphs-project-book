{
 "cells": [
  {
   "cell_type": "markdown",
   "id": "cde40941",
   "metadata": {},
   "source": [
    "Main Results\n",
    "=========="
   ]
  },
  {
   "cell_type": "markdown",
   "id": "98ab24f5",
   "metadata": {},
   "source": [
    "Here we present the most interesting findings from our project. For a more detailed coverage please visit the explainer notebook.\n",
    "\n",
    "* [`1. Network Visualization`](#part1)\n",
    "* [`2. Understanding Communities and what they talk about`](#part2)\n",
    "* [`3. Content analysis: Discovering salient topics.`](#part3)\n",
    "* [`4. socialscience2vec: Node and Document Embeddings`](#part4)"
   ]
  },
  {
   "cell_type": "markdown",
   "id": "7b715b84",
   "metadata": {},
   "source": [
    "<a id='part1'></a>\n",
    "## 1. Network Visualization"
   ]
  },
  {
   "cell_type": "markdown",
   "id": "846aca76",
   "metadata": {},
   "source": [
    "In the plot bellow we visualize "
   ]
  },
  {
   "cell_type": "markdown",
   "id": "a7d14b2c",
   "metadata": {},
   "source": [
    "<a id='part2'></a>\n",
    "## 2. Understanding Communities and what they talk about"
   ]
  },
  {
   "cell_type": "markdown",
   "id": "8777cdf3",
   "metadata": {},
   "source": [
    "<a id='part3'></a>\n",
    "## 3. Content analysis: Discovering salient topics"
   ]
  },
  {
   "cell_type": "markdown",
   "id": "ce180a70",
   "metadata": {},
   "source": [
    "<a id='part4'></a>\n",
    "## 4. socialscience2vec: Node and Document Embedding"
   ]
  }
 ],
 "metadata": {
  "kernelspec": {
   "display_name": "Python 3.9.7 64-bit ('pyenv': conda)",
   "language": "python",
   "name": "python397jvsc74a57bd0794ed8d0b773cbcd7b7ec7f3b705e2b7a8437127647cc51e7d6c4b4e7ca1b777"
  },
  "language_info": {
   "codemirror_mode": {
    "name": "ipython",
    "version": 3
   },
   "file_extension": ".py",
   "mimetype": "text/x-python",
   "name": "python",
   "nbconvert_exporter": "python",
   "pygments_lexer": "ipython3",
   "version": "3.9.7"
  }
 },
 "nbformat": 4,
 "nbformat_minor": 5
}
