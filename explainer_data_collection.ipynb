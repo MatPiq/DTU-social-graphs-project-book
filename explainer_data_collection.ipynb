{
 "cells": [
  {
   "cell_type": "markdown",
   "metadata": {},
   "source": [
    "# Data collection"
   ]
  },
  {
   "cell_type": "markdown",
   "metadata": {},
   "source": [
    "To collect the relevant wikipedia pages for our project we specify the dataclass `Node`. This is based on the use of the open-source software [PetScan](https://petscan.wmflabs.org/) that based on a list of wikipedia-categories yields the corresponding page-names. We furthermore specify the depth of our PetScan-query, which is a measure of how deep we want our categories to be. As the list of pages grows exponentially with the levels of depth we set the parameter to 1. "
   ]
  },
  {
   "cell_type": "code",
   "execution_count": 1,
   "metadata": {
    "ExecuteTime": {
     "end_time": "2021-11-28T13:42:31.786982Z",
     "start_time": "2021-11-28T13:42:27.941061Z"
    }
   },
   "outputs": [],
   "source": [
    "import requests\n",
    "import json\n",
    "import wikipedia\n",
    "import pandas as pd\n",
    "from tqdm.notebook import tqdm\n",
    "from dataclasses import dataclass\n",
    "from typing import List\n",
    "from itertools import chain\n",
    "from collections import Counter"
   ]
  },
  {
   "cell_type": "code",
   "execution_count": 12,
   "metadata": {
    "ExecuteTime": {
     "end_time": "2021-11-18T19:05:16.463857Z",
     "start_time": "2021-11-18T19:05:16.452921Z"
    }
   },
   "outputs": [],
   "source": [
    "# We define the dataclass Node that contains: name, parent, depth, edges, text and categories of a page\n",
    "@dataclass(frozen=False)\n",
    "class Node:\n",
    "    name:str\n",
    "    parent:str\n",
    "    depth:int=0\n",
    "    edges:List[tuple]=None\n",
    "    text:str=None\n",
    "    categories:List[str]=None    \n",
    "    \n",
    "\n",
    "def collect_nodes(parents:list,depth:int=0)->List[Node]:\n",
    "    \n",
    "    \"\"\"\n",
    "    Based on a category(parents) and the depth this function collects all of the \n",
    "    corresponding wikipedia pages and returns a list of element of classtype Node.\n",
    "    \"\"\"\n",
    "    \n",
    "    nodes = list()\n",
    "    base_url = 'https://petscan.wmflabs.org/?ns%5B0%5D=1&'\n",
    "    params = {'project':'wikipedia',\n",
    "              'language':'en',\n",
    "              'format':'json',\n",
    "              'interface_language':'en',\n",
    "              'depth':str(depth),\n",
    "              'doit':''}\n",
    "    \n",
    "    # Loop through all the categories of the parent-category\n",
    "    for cat in tqdm(parents):\n",
    "        \n",
    "        params['categories'] = cat  # Add new entry to the params dict\n",
    "        resp = requests.get(url=base_url, params=params).json() #  Get pages based on the params\n",
    "        \n",
    "        # Due to DisambiguationError (some page query are disambiguats) we have to use try statements\n",
    "        # to extract the page elements\n",
    "        try: \n",
    "            for node in tqdm(resp['*'][0]['a']['*'], leave=False):\n",
    "                try:\n",
    "                    article = wikipedia.page(node['title'].replace('_',' '))\n",
    "                    text = article.content\n",
    "                    edges = article.links\n",
    "                    categories = article.categories\n",
    "                    #Append the elements to nodes\n",
    "                    nodes.append(Node(name=node['title'],\n",
    "                                    parent=cat,\n",
    "                                    depth=depth,\n",
    "                                    edges=edges,\n",
    "                                    text=text,\n",
    "                                    categories=categories))\n",
    "                #except AttributeError or DisambiguationError:\n",
    "#                    nodes.append(Node(name=node['title'],\n",
    "#                                    parent=cat,\n",
    "#                                    depth=depth))\n",
    "                except:\n",
    "                    print(f'Node {node.name} could not be collected...')\n",
    "            \n",
    "        except KeyError:\n",
    "            print(f'Category {cat} could not be collected...')\n",
    "    \n",
    "    return nodes"
   ]
  },
  {
   "cell_type": "code",
   "execution_count": 15,
   "metadata": {
    "ExecuteTime": {
     "end_time": "2021-11-19T02:02:47.580771Z",
     "start_time": "2021-11-18T21:46:26.964880Z"
    }
   },
   "outputs": [
    {
     "data": {
      "application/vnd.jupyter.widget-view+json": {
       "model_id": "2d43ae3e17c14dafaaecc1c8065cb5ad",
       "version_major": 2,
       "version_minor": 0
      },
      "text/plain": [
       "  0%|          | 0/1 [00:00<?, ?it/s]"
      ]
     },
     "metadata": {},
     "output_type": "display_data"
    },
    {
     "data": {
      "application/vnd.jupyter.widget-view+json": {
       "model_id": "dff3075854984d52a9e042d996e2c55e",
       "version_major": 2,
       "version_minor": 0
      },
      "text/plain": [
       "  0%|          | 0/5 [00:00<?, ?it/s]"
      ]
     },
     "metadata": {},
     "output_type": "display_data"
    },
    {
     "data": {
      "application/vnd.jupyter.widget-view+json": {
       "model_id": "",
       "version_major": 2,
       "version_minor": 0
      },
      "text/plain": [
       "  0%|          | 0/892 [00:00<?, ?it/s]"
      ]
     },
     "metadata": {},
     "output_type": "display_data"
    },
    {
     "name": "stdout",
     "output_type": "stream",
     "text": [
      "Node {'id': 21754, 'len': 22738, 'metadata': {'wikidata': 'Q6266'}, 'n': 'page', 'namespace': 0, 'nstext': '', 'q': 'Q6266', 'title': 'Nation', 'touched': '20211111144259'} could not be collected...\n",
      "Node {'id': 408891, 'len': 4910, 'metadata': {'wikidata': 'Q5172479'}, 'n': 'page', 'namespace': 0, 'nstext': '', 'q': 'Q5172479', 'title': 'Corporate_nationalism', 'touched': '20210919002625'} could not be collected...\n",
      "Node {'id': 454402, 'len': 25655, 'metadata': {'wikidata': 'Q617473'}, 'n': 'page', 'namespace': 0, 'nstext': '', 'q': 'Q617473', 'title': 'Likert_scale', 'touched': '20211016074109'} could not be collected...\n",
      "Node {'id': 467982, 'len': 12654, 'metadata': {'wikidata': 'Q1761743'}, 'n': 'page', 'namespace': 0, 'nstext': '', 'q': 'Q1761743', 'title': 'Red_tape', 'touched': '20211107200515'} could not be collected...\n",
      "Node {'id': 503474, 'len': 25323, 'metadata': {'wikidata': 'Q1752412'}, 'n': 'page', 'namespace': 0, 'nstext': '', 'q': 'Q1752412', 'title': 'Nation-building', 'touched': '20211108132637'} could not be collected...\n",
      "Node {'id': 513246, 'len': 45600, 'metadata': {'wikidata': 'Q124734'}, 'n': 'page', 'namespace': 0, 'nstext': '', 'q': 'Q124734', 'title': 'Rebellion', 'touched': '20210905203129'} could not be collected...\n",
      "Node {'id': 770661, 'len': 4856, 'metadata': {'wikidata': 'Q1992046'}, 'n': 'page', 'namespace': 0, 'nstext': '', 'q': 'Q1992046', 'title': 'Thurstone_scale', 'touched': '20211008164508'} could not be collected...\n",
      "Node {'id': 1096446, 'len': 15213, 'metadata': {'wikidata': 'Q5162861'}, 'n': 'page', 'namespace': 0, 'nstext': '', 'q': 'Q5162861', 'title': 'Consent_of_the_governed', 'touched': '20211014034714'} could not be collected...\n",
      "Node {'id': 1878130, 'len': 45650, 'metadata': {'wikidata': 'Q4884227'}, 'n': 'page', 'namespace': 0, 'nstext': '', 'q': 'Q4884227', 'title': 'Bellwether', 'touched': '20211113210342'} could not be collected...\n",
      "Node {'id': 2335285, 'len': 6416, 'metadata': {'wikidata': 'Q7396929'}, 'n': 'page', 'namespace': 0, 'nstext': '', 'q': 'Q7396929', 'title': 'Sacralism', 'touched': '20210108184519'} could not be collected...\n",
      "Node {'id': 2992326, 'len': 6893, 'metadata': {'wikidata': 'Q4708088'}, 'n': 'page', 'namespace': 0, 'nstext': '', 'q': 'Q4708088', 'title': 'Alan_Wolfe', 'touched': '20201130002738'} could not be collected...\n",
      "Node {'id': 14654024, 'len': 5612, 'metadata': {'wikidata': 'Q422933'}, 'n': 'page', 'namespace': 0, 'nstext': '', 'q': 'Q422933', 'title': 'Elitism', 'touched': '20210918231837'} could not be collected...\n",
      "Node {'id': 15355523, 'len': 15948, 'metadata': {'wikidata': 'Q7240907'}, 'n': 'page', 'namespace': 0, 'nstext': '', 'q': 'Q7240907', 'title': 'Preselection', 'touched': '20211022010750'} could not be collected...\n",
      "Node {'id': 38667895, 'len': 22956, 'metadata': {'wikidata': 'Q668662'}, 'n': 'page', 'namespace': 0, 'nstext': '', 'q': 'Q668662', 'title': 'Austromarxism', 'touched': '20210925134802'} could not be collected...\n",
      "Node {'id': 49878586, 'len': 8705, 'metadata': {'wikidata': 'Q23308191'}, 'n': 'page', 'namespace': 0, 'nstext': '', 'q': 'Q23308191', 'title': 'Excellent_Sheep', 'touched': '20210811210507'} could not be collected...\n",
      "Node {'id': 52044774, 'len': 9190, 'metadata': {'wikidata': 'Q28135506'}, 'n': 'page', 'namespace': 0, 'nstext': '', 'q': 'Q28135506', 'title': 'Attitude-behavior_consistency', 'touched': '20211105160607'} could not be collected...\n",
      "Node {'id': 60810780, 'len': 19228, 'metadata': {'wikidata': 'Q216200'}, 'n': 'page', 'namespace': 0, 'nstext': '', 'q': 'Q216200', 'title': 'Legal_norm', 'touched': '20210512182956'} could not be collected...\n"
     ]
    },
    {
     "data": {
      "application/vnd.jupyter.widget-view+json": {
       "model_id": "",
       "version_major": 2,
       "version_minor": 0
      },
      "text/plain": [
       "  0%|          | 0/987 [00:00<?, ?it/s]"
      ]
     },
     "metadata": {},
     "output_type": "display_data"
    },
    {
     "name": "stdout",
     "output_type": "stream",
     "text": [
      "Node {'id': 18135, 'len': 13410, 'metadata': {'wikidata': 'Q430378'}, 'n': 'page', 'namespace': 0, 'nstext': '', 'q': 'Q430378', 'title': 'Lorenz_curve', 'touched': '20210727141002'} could not be collected...\n",
      "Node {'id': 667117, 'len': 3350, 'metadata': {'wikidata': 'Q772524'}, 'n': 'page', 'namespace': 0, 'nstext': '', 'q': 'Q772524', 'title': 'Eonia', 'touched': '20210304200335'} could not be collected...\n",
      "Node {'id': 1531457, 'len': 85744, 'metadata': {'wikidata': 'Q72596'}, 'n': 'page', 'namespace': 0, 'nstext': '', 'q': 'Q72596', 'title': 'Resource_curse', 'touched': '20211108180045'} could not be collected...\n",
      "Node {'id': 1808848, 'len': 1329, 'metadata': {'wikidata': 'Q6407549'}, 'n': 'page', 'namespace': 0, 'nstext': '', 'q': 'Q6407549', 'title': 'Killer_bees_(business)', 'touched': '20210416065935'} could not be collected...\n",
      "Node {'id': 2110105, 'len': 13658, 'metadata': {'wikidata': 'Q1161046'}, 'n': 'page', 'namespace': 0, 'nstext': '', 'q': 'Q1161046', 'title': 'MONIAC', 'touched': '20211030233821'} could not be collected...\n",
      "Node {'id': 2362408, 'len': 3473, 'metadata': {'wikidata': 'Q1108968'}, 'n': 'page', 'namespace': 0, 'nstext': '', 'q': 'Q1108968', 'title': 'Collective_action_clause', 'touched': '20210428172914'} could not be collected...\n",
      "Node {'id': 2421479, 'len': 2270, 'metadata': {'wikidata': 'Q744153'}, 'n': 'page', 'namespace': 0, 'nstext': '', 'q': 'Q744153', 'title': 'Implicit_cost', 'touched': '20210620110321'} could not be collected...\n",
      "Node {'id': 2460620, 'len': 3537, 'metadata': {'wikidata': 'Q388708'}, 'n': 'page', 'namespace': 0, 'nstext': '', 'q': 'Q388708', 'title': 'GKO', 'touched': '20210630162135'} could not be collected...\n",
      "Node {'id': 2905443, 'len': 1296, 'metadata': {'wikidata': 'Q5973074'}, 'n': 'page', 'namespace': 0, 'nstext': '', 'q': 'Q5973074', 'title': 'IPOD_generation', 'touched': '20211115012003'} could not be collected...\n",
      "Node {'id': 3347164, 'len': 6323, 'metadata': {'wikidata': 'Q2667916'}, 'n': 'page', 'namespace': 0, 'nstext': '', 'q': 'Q2667916', 'title': 'Rat_race', 'touched': '20211006030611'} could not be collected...\n",
      "Node {'id': 3777675, 'len': 763, 'metadata': {'wikidata': 'Q6495599'}, 'n': 'page', 'namespace': 0, 'nstext': '', 'q': 'Q6495599', 'title': 'Lateral_expansion', 'touched': '20201208004350'} could not be collected...\n",
      "Node {'id': 4431757, 'len': 1000, 'metadata': {'wikidata': 'Q11249356'}, 'n': 'page', 'namespace': 0, 'nstext': '', 'q': 'Q11249356', 'title': 'TIBOR', 'touched': '20200824193326'} could not be collected...\n",
      "Node {'id': 7149904, 'len': 4373, 'metadata': {'wikidata': 'Q7431041'}, 'n': 'page', 'namespace': 0, 'nstext': '', 'q': 'Q7431041', 'title': 'Schedule_13G', 'touched': '20200111033246'} could not be collected...\n",
      "Node {'id': 31721608, 'len': 803, 'metadata': {'wikidata': 'Q5532349'}, 'n': 'page', 'namespace': 0, 'nstext': '', 'q': 'Q5532349', 'title': 'General_government_sector', 'touched': '20200429171858'} could not be collected...\n",
      "Node {'id': 32148878, 'len': 6229, 'metadata': {'wikidata': 'Q27095618'}, 'n': 'page', 'namespace': 0, 'nstext': '', 'q': 'Q27095618', 'title': 'Social_metabolism', 'touched': '20210928041552'} could not be collected...\n",
      "Node {'id': 32194239, 'len': 6078, 'metadata': {'wikidata': 'Q7060536'}, 'n': 'page', 'namespace': 0, 'nstext': '', 'q': 'Q7060536', 'title': 'North–South_model', 'touched': '20210813083840'} could not be collected...\n",
      "Node {'id': 32228572, 'len': 10699, 'metadata': {'wikidata': 'Q8031908'}, 'n': 'page', 'namespace': 0, 'nstext': '', 'q': 'Q8031908', 'title': 'Wonderland_model', 'touched': '20210911135405'} could not be collected...\n",
      "Node {'id': 32325584, 'len': 2769, 'metadata': {'wikidata': 'Q6412185'}, 'n': 'page', 'namespace': 0, 'nstext': '', 'q': 'Q6412185', 'title': 'King_effect', 'touched': '20210110091105'} could not be collected...\n",
      "Node {'id': 32349569, 'len': 1388, 'metadata': {'wikidata': 'Q7306317'}, 'n': 'page', 'namespace': 0, 'nstext': '', 'q': 'Q7306317', 'title': \"Reduce_America's_Debt_Now_Act_of_2011\", 'touched': '20210814204437'} could not be collected...\n",
      "Node {'id': 32690625, 'len': 23520, 'metadata': {'wikidata': 'Q7353000'}, 'n': 'page', 'namespace': 0, 'nstext': '', 'q': 'Q7353000', 'title': 'Robinson_Crusoe_economy', 'touched': '20211115152625'} could not be collected...\n",
      "Node {'id': 33005074, 'len': 616, 'metadata': {'wikidata': 'Q7894006'}, 'n': 'page', 'namespace': 0, 'nstext': '', 'q': 'Q7894006', 'title': 'Universal_Market_Integrity_Rules', 'touched': '20170407225102'} could not be collected...\n",
      "Node {'id': 33023836, 'len': 3150, 'metadata': {'wikidata': 'Q6205404'}, 'n': 'page', 'namespace': 0, 'nstext': '', 'q': 'Q6205404', 'title': \"Joan_Robinson's_growth_model\", 'touched': '20210130190630'} could not be collected...\n",
      "Node {'id': 33140458, 'len': 12878, 'metadata': {'wikidata': 'Q506207'}, 'n': 'page', 'namespace': 0, 'nstext': '', 'q': 'Q506207', 'title': \"Parkinson's_law\", 'touched': '20211023083342'} could not be collected...\n",
      "Node {'id': 33183306, 'len': 35428, 'metadata': {'wikidata': 'Q14908243'}, 'n': 'page', 'namespace': 0, 'nstext': '', 'q': 'Q14908243', 'title': 'Fei–Ranis_model_of_economic_growth', 'touched': '20211020192203'} could not be collected...\n",
      "Node {'id': 33311036, 'len': 3621, 'metadata': {'wikidata': 'Q3478677'}, 'n': 'page', 'namespace': 0, 'nstext': '', 'q': 'Q3478677', 'title': 'Expansion_path', 'touched': '20210526163841'} could not be collected...\n",
      "Node {'id': 33346223, 'len': 3945, 'metadata': {'wikidata': 'Q7061386'}, 'n': 'page', 'namespace': 0, 'nstext': '', 'q': 'Q7061386', 'title': 'Norwegian_paradox', 'touched': '20201205082801'} could not be collected...\n",
      "Node {'id': 33461966, 'len': 1365, 'metadata': {'wikidata': 'Q7835624'}, 'n': 'page', 'namespace': 0, 'nstext': '', 'q': 'Q7835624', 'title': 'Trapped_equity_theory', 'touched': '20160613104856'} could not be collected...\n",
      "Node {'id': 33547599, 'len': 6030, 'metadata': {'wikidata': 'Q7577802'}, 'n': 'page', 'namespace': 0, 'nstext': '', 'q': 'Q7577802', 'title': 'Spire_Credit_Union', 'touched': '20210301172725'} could not be collected...\n",
      "Node {'id': 33567823, 'len': 10004, 'metadata': {'wikidata': 'Q5148423'}, 'n': 'page', 'namespace': 0, 'nstext': '', 'q': 'Q5148423', 'title': 'Colonial_Origins_of_Comparative_Development', 'touched': '20211016045650'} could not be collected...\n",
      "Node {'id': 33678624, 'len': 2662, 'metadata': {'wikidata': 'Q6899024'}, 'n': 'page', 'namespace': 0, 'nstext': '', 'q': 'Q6899024', 'title': 'Monetary_sovereignty', 'touched': '20210504030133'} could not be collected...\n",
      "Node {'id': 33683733, 'len': 3242, 'metadata': {'wikidata': 'Q7158417'}, 'n': 'page', 'namespace': 0, 'nstext': '', 'q': 'Q7158417', 'title': 'Peasant_economics', 'touched': '20150131072928'} could not be collected...\n",
      "Node {'id': 33689623, 'len': 7896, 'metadata': {'wikidata': 'Q4808797'}, 'n': 'page', 'namespace': 0, 'nstext': '', 'q': 'Q4808797', 'title': 'Asset-based_welfare', 'touched': '20191006154132'} could not be collected...\n",
      "Node {'id': 33844737, 'len': 11499, 'metadata': {'wikidata': 'Q5251617'}, 'n': 'page', 'namespace': 0, 'nstext': '', 'q': 'Q5251617', 'title': 'Definitions_of_economics', 'touched': '20211029114411'} could not be collected...\n",
      "Node {'id': 33889209, 'len': 2429, 'metadata': {'wikidata': 'Q5333554'}, 'n': 'page', 'namespace': 0, 'nstext': '', 'q': 'Q5333554', 'title': 'Economic_taxonomy', 'touched': '20200730132305'} could not be collected...\n",
      "Node {'id': 33895291, 'len': 4232, 'metadata': {'wikidata': 'Q6031568'}, 'n': 'page', 'namespace': 0, 'nstext': '', 'q': 'Q6031568', 'title': 'Infrastructure_debt', 'touched': '20200423162623'} could not be collected...\n",
      "Node {'id': 33917094, 'len': 5374, 'metadata': {'wikidata': 'Q7134448'}, 'n': 'page', 'namespace': 0, 'nstext': '', 'q': 'Q7134448', 'title': 'Paradox_of_prosperity', 'touched': '20201216163212'} could not be collected...\n",
      "Node {'id': 34069337, 'len': 1938, 'metadata': {'wikidata': 'Q7134452'}, 'n': 'page', 'namespace': 0, 'nstext': '', 'q': 'Q7134452', 'title': 'Paradox_of_flexibility', 'touched': '20201218010902'} could not be collected...\n",
      "Node {'id': 34693843, 'len': 118, 'n': 'page', 'namespace': 0, 'nstext': '', 'title': \"Schelling's_segregation_model\", 'touched': '20161008153016'} could not be collected...\n"
     ]
    },
    {
     "name": "stdout",
     "output_type": "stream",
     "text": [
      "Node {'id': 34945002, 'len': 8635, 'metadata': {'wikidata': 'Q5121659'}, 'n': 'page', 'namespace': 0, 'nstext': '', 'q': 'Q5121659', 'title': 'Circular_cumulative_causation', 'touched': '20210905233335'} could not be collected...\n",
      "Node {'id': 35186422, 'len': 1675, 'metadata': {'wikidata': 'Q7714941'}, 'n': 'page', 'namespace': 0, 'nstext': '', 'q': 'Q7714941', 'title': 'Austrian_Economics_Newsletter', 'touched': '20211007051939'} could not be collected...\n",
      "Node {'id': 35626853, 'len': 11091, 'metadata': {'wikidata': 'Q4895912'}, 'n': 'page', 'namespace': 0, 'nstext': '', 'q': 'Q4895912', 'title': 'Bertrand–Edgeworth_model', 'touched': '20201231080227'} could not be collected...\n",
      "Node {'id': 35675580, 'len': 1167, 'metadata': {'wikidata': 'Q5421563'}, 'n': 'page', 'namespace': 0, 'nstext': '', 'q': 'Q5421563', 'title': 'Export_parity_price', 'touched': '20170417195220'} could not be collected...\n",
      "Node {'id': 36881492, 'len': 1066, 'metadata': {'wikidata': 'Q5347438'}, 'n': 'page', 'namespace': 0, 'nstext': '', 'q': 'Q5347438', 'title': 'Efficiency–thoroughness_trade-off_principle', 'touched': '20201217150301'} could not be collected...\n",
      "Node {'id': 37153076, 'len': 4637, 'metadata': {'wikidata': 'Q16828263'}, 'n': 'page', 'namespace': 0, 'nstext': '', 'q': 'Q16828263', 'title': 'Bristol/Bath_to_South_Coast_Study', 'touched': '20210319221409'} could not be collected...\n",
      "Node {'id': 37375042, 'len': 4489, 'metadata': {'wikidata': 'Q7535405'}, 'n': 'page', 'namespace': 0, 'nstext': '', 'q': 'Q7535405', 'title': 'Skin_in_the_game_(phrase)', 'touched': '20211102232659'} could not be collected...\n",
      "Node {'id': 37384019, 'len': 1551, 'metadata': {'wikidata': 'Q1465136'}, 'n': 'page', 'namespace': 0, 'nstext': '', 'q': 'Q1465136', 'title': 'Maturity_transformation', 'touched': '20200725170534'} could not be collected...\n",
      "Node {'id': 37542807, 'len': 3104, 'metadata': {'wikidata': 'Q559770'}, 'n': 'page', 'namespace': 0, 'nstext': '', 'q': 'Q559770', 'title': 'Thymology', 'touched': '20191117082205'} could not be collected...\n",
      "Node {'id': 37733670, 'len': 114, 'metadata': {'wikidata': 'Q7852218'}, 'n': 'page', 'namespace': 0, 'nstext': '', 'q': 'Q7852218', 'title': 'Tullock_paradox', 'touched': '20200527200657'} could not be collected...\n",
      "Node {'id': 38000899, 'len': 3667, 'metadata': {'wikidata': 'Q1532785'}, 'n': 'page', 'namespace': 0, 'nstext': '', 'q': 'Q1532785', 'title': 'State_Planning_Organization_(Turkey)', 'touched': '20210718095028'} could not be collected...\n",
      "Node {'id': 38122928, 'len': 11600, 'metadata': {'wikidata': 'Q7889863'}, 'n': 'page', 'namespace': 0, 'nstext': '', 'q': 'Q7889863', 'title': 'United_States_Economic_Census', 'touched': '20211028170207'} could not be collected...\n",
      "Node {'id': 38130490, 'len': 796, 'metadata': {'wikidata': 'Q5048710'}, 'n': 'page', 'namespace': 0, 'nstext': '', 'q': 'Q5048710', 'title': 'Cash_sweep', 'touched': '20210323090846'} could not be collected...\n",
      "Node {'id': 38162322, 'len': 1521, 'metadata': {'wikidata': 'Q5469686'}, 'n': 'page', 'namespace': 0, 'nstext': '', 'q': 'Q5469686', 'title': 'Forgivable_loan', 'touched': '20210218050526'} could not be collected...\n",
      "Node {'id': 38499294, 'len': 6384, 'metadata': {'wikidata': 'Q831159'}, 'n': 'page', 'namespace': 0, 'nstext': '', 'q': 'Q831159', 'title': 'Guild_socialism', 'touched': '20211001211335'} could not be collected...\n",
      "Node {'id': 38716437, 'len': 4533, 'metadata': {'wikidata': 'Q6863330'}, 'n': 'page', 'namespace': 0, 'nstext': '', 'q': 'Q6863330', 'title': 'Mincer_earnings_function', 'touched': '20201217083641'} could not be collected...\n",
      "Node {'id': 38738749, 'len': 113, 'n': 'page', 'namespace': 0, 'nstext': '', 'title': 'Least-Cost_Theory', 'touched': '20160820103037'} could not be collected...\n",
      "Node {'id': 38878996, 'len': 1323, 'metadata': {'wikidata': 'Q16957904'}, 'n': 'page', 'namespace': 0, 'nstext': '', 'q': 'Q16957904', 'title': 'Choice_of_techniques', 'touched': '20180324212727'} could not be collected...\n",
      "Node {'id': 38953877, 'len': 2228, 'metadata': {'wikidata': 'Q17123816'}, 'n': 'page', 'namespace': 0, 'nstext': '', 'q': 'Q17123816', 'title': 'Sovereign_credit_risk', 'touched': '20201020114633'} could not be collected...\n",
      "Node {'id': 39229407, 'len': 2714, 'metadata': {'wikidata': 'Q17098208'}, 'n': 'page', 'namespace': 0, 'nstext': '', 'q': 'Q17098208', 'title': 'IS/MP_model', 'touched': '20210506135656'} could not be collected...\n",
      "Node {'id': 39229437, 'len': 2706, 'metadata': {'wikidata': 'Q25047950'}, 'n': 'page', 'namespace': 0, 'nstext': '', 'q': 'Q25047950', 'title': 'Marketable_collateral', 'touched': '20191003215858'} could not be collected...\n",
      "Node {'id': 39250635, 'len': 1010, 'metadata': {'wikidata': 'Q16842136'}, 'n': 'page', 'namespace': 0, 'nstext': '', 'q': 'Q16842136', 'title': 'Biological_economics', 'touched': '20210216153809'} could not be collected...\n",
      "Node {'id': 39328042, 'len': 15636, 'metadata': {'wikidata': 'Q17011686'}, 'n': 'page', 'namespace': 0, 'nstext': '', 'q': 'Q17011686', 'title': 'Economic_opportunism', 'touched': '20190928234412'} could not be collected...\n",
      "Node {'id': 39395426, 'len': 2305, 'metadata': {'wikidata': 'Q1310843'}, 'n': 'page', 'namespace': 0, 'nstext': '', 'q': 'Q1310843', 'title': 'Iceberg_transport_cost_model', 'touched': '20210518154235'} could not be collected...\n",
      "Node {'id': 39747030, 'len': 2668, 'metadata': {'wikidata': 'Q17050785'}, 'n': 'page', 'namespace': 0, 'nstext': '', 'q': 'Q17050785', 'title': 'Indian_economic_census', 'touched': '20210730061227'} could not be collected...\n",
      "Node {'id': 39840353, 'len': 5174, 'metadata': {'wikidata': 'Q14301072'}, 'n': 'page', 'namespace': 0, 'nstext': '', 'q': 'Q14301072', 'title': 'Forsal.pl', 'touched': '20210213025236'} could not be collected...\n",
      "Node {'id': 40064315, 'len': 6496, 'metadata': {'wikidata': 'Q17147066'}, 'n': 'page', 'namespace': 0, 'nstext': '', 'q': 'Q17147066', 'title': 'Vanishing_Hand', 'touched': '20200213193304'} could not be collected...\n",
      "Node {'id': 40719423, 'len': 5447, 'metadata': {'wikidata': 'Q17052054'}, 'n': 'page', 'namespace': 0, 'nstext': '', 'q': 'Q17052054', 'title': 'Sailing_ship_effect', 'touched': '20201215164305'} could not be collected...\n",
      "Node {'id': 40994463, 'len': 1825, 'metadata': {'wikidata': 'Q15285793'}, 'n': 'page', 'namespace': 0, 'nstext': '', 'q': 'Q15285793', 'title': 'Dorfman–Steiner_theorem', 'touched': '20180812105402'} could not be collected...\n",
      "Node {'id': 41126881, 'len': 11423, 'metadata': {'wikidata': 'Q17152837'}, 'n': 'page', 'namespace': 0, 'nstext': '', 'q': 'Q17152837', 'title': 'Lindy_effect', 'touched': '20211106091711'} could not be collected...\n",
      "Node {'id': 41742715, 'len': 2064, 'metadata': {'wikidata': 'Q3578710'}, 'n': 'page', 'namespace': 0, 'nstext': '', 'q': 'Q3578710', 'title': 'Organizational_economics', 'touched': '20211021002126'} could not be collected...\n",
      "Node {'id': 41861637, 'len': 1175, 'metadata': {'wikidata': 'Q16836068'}, 'n': 'page', 'namespace': 0, 'nstext': '', 'q': 'Q16836068', 'title': 'Average_earnings_index', 'touched': '20200808001446'} could not be collected...\n",
      "Node {'id': 42081426, 'len': 22297, 'metadata': {'wikidata': 'Q17153865'}, 'n': 'page', 'namespace': 0, 'nstext': '', 'q': 'Q17153865', 'title': 'Sectoral_balances', 'touched': '20200913125359'} could not be collected...\n",
      "Node {'id': 42302714, 'len': 22043, 'metadata': {'wikidata': 'Q17148542'}, 'n': 'page', 'namespace': 0, 'nstext': '', 'q': 'Q17148542', 'title': 'Bargaining_model_of_war', 'touched': '20211003004057'} could not be collected...\n",
      "Node {'id': 42305243, 'len': 2037, 'metadata': {'wikidata': 'Q16002058'}, 'n': 'page', 'namespace': 0, 'nstext': '', 'q': 'Q16002058', 'title': 'Age_at_risk', 'touched': '20191123035345'} could not be collected...\n",
      "Node {'id': 42426577, 'len': 17462, 'metadata': {'wikidata': 'Q17101691'}, 'n': 'page', 'namespace': 0, 'nstext': '', 'q': 'Q17101691', 'title': 'Institutional_complementarity', 'touched': '20210702064211'} could not be collected...\n",
      "Node {'id': 42914330, 'len': 2443, 'metadata': {'wikidata': 'Q1638761'}, 'n': 'page', 'namespace': 0, 'nstext': '', 'q': 'Q1638761', 'title': 'Rent-gap_theory', 'touched': '20210511170241'} could not be collected...\n"
     ]
    },
    {
     "name": "stdout",
     "output_type": "stream",
     "text": [
      "Node {'id': 43103489, 'len': 10321, 'metadata': {'wikidata': 'Q18392216'}, 'n': 'page', 'namespace': 0, 'nstext': '', 'q': 'Q18392216', 'title': 'Galor–Zeira_model', 'touched': '20210925003958'} could not be collected...\n",
      "Node {'id': 43334696, 'len': 23308, 'metadata': {'wikidata': 'Q18385613'}, 'n': 'page', 'namespace': 0, 'nstext': '', 'q': 'Q18385613', 'title': 'Stock-flow_consistent_model', 'touched': '20210930074336'} could not be collected...\n",
      "Node {'id': 43446060, 'len': 2587, 'metadata': {'wikidata': 'Q18356548'}, 'n': 'page', 'namespace': 0, 'nstext': '', 'q': 'Q18356548', 'title': 'Secular_inflation', 'touched': '20190314201204'} could not be collected...\n",
      "Node {'id': 43482230, 'len': 422, 'metadata': {'wikidata': 'Q18344877'}, 'n': 'page', 'namespace': 0, 'nstext': '', 'q': 'Q18344877', 'title': 'Milestone_fee', 'touched': '20210423204034'} could not be collected...\n",
      "Node {'id': 44013878, 'len': 1390, 'metadata': {'wikidata': 'Q18391886'}, 'n': 'page', 'namespace': 0, 'nstext': '', 'q': 'Q18391886', 'title': 'Economic_evaluation', 'touched': '20170228235531'} could not be collected...\n",
      "Node {'id': 44199529, 'len': 83, 'n': 'page', 'namespace': 0, 'nstext': '', 'title': 'Closed-end_fund_puzzle', 'touched': '20150503153329'} could not be collected...\n",
      "Node {'id': 44389810, 'len': 865, 'metadata': {'wikidata': 'Q22907141'}, 'n': 'page', 'namespace': 0, 'nstext': '', 'q': 'Q22907141', 'title': 'Certificate_of_Tax_Deposit', 'touched': '20200816133057'} could not be collected...\n",
      "Node {'id': 45717569, 'len': 476, 'metadata': {'wikidata': 'Q23793859'}, 'n': 'page', 'namespace': 0, 'nstext': '', 'q': 'Q23793859', 'title': 'Reverse_costing', 'touched': '20210318232533'} could not be collected...\n",
      "Node {'id': 46194565, 'len': 65164, 'metadata': {'wikidata': 'Q25338505'}, 'n': 'page', 'namespace': 0, 'nstext': '', 'q': 'Q25338505', 'title': 'History_of_microeconomics', 'touched': '20211014103429'} could not be collected...\n",
      "Node {'id': 46325124, 'len': 3506, 'metadata': {'wikidata': 'Q2504980'}, 'n': 'page', 'namespace': 0, 'nstext': '', 'q': 'Q2504980', 'title': 'Uzawa–Lucas_model', 'touched': '20210518070121'} could not be collected...\n",
      "Node {'id': 46376688, 'len': 4546, 'metadata': {'wikidata': 'Q20707644'}, 'n': 'page', 'namespace': 0, 'nstext': '', 'q': 'Q20707644', 'title': 'Information_communication_and_telecommunication_economics', 'touched': '20210321172458'} could not be collected...\n",
      "Node {'id': 46414597, 'len': 7743, 'metadata': {'wikidata': 'Q25098869'}, 'n': 'page', 'namespace': 0, 'nstext': '', 'q': 'Q25098869', 'title': 'Varian_Rule', 'touched': '20190722091400'} could not be collected...\n",
      "Node {'id': 46822398, 'len': 2926, 'metadata': {'wikidata': 'Q20658289'}, 'n': 'page', 'namespace': 0, 'nstext': '', 'q': 'Q20658289', 'title': \"Pen's_parade\", 'touched': '20200916172056'} could not be collected...\n",
      "Node {'id': 47076382, 'len': 2850, 'metadata': {'wikidata': 'Q22080687'}, 'n': 'page', 'namespace': 0, 'nstext': '', 'q': 'Q22080687', 'title': 'US-China_University_Presidents_Roundtable', 'touched': '20210122050237'} could not be collected...\n",
      "Node {'id': 47446083, 'len': 2105, 'metadata': {'wikidata': 'Q1209532'}, 'n': 'page', 'namespace': 0, 'nstext': '', 'q': 'Q1209532', 'title': 'Economies_of_density', 'touched': '20201125174603'} could not be collected...\n",
      "Node {'id': 47603597, 'len': 12200, 'metadata': {'wikidata': 'Q23796625'}, 'n': 'page', 'namespace': 0, 'nstext': '', 'q': 'Q23796625', 'title': 'Behavioral_strategy', 'touched': '20211113201149'} could not be collected...\n",
      "Node {'id': 47925891, 'len': 1932, 'metadata': {'wikidata': 'Q28455176'}, 'n': 'page', 'namespace': 0, 'nstext': '', 'q': 'Q28455176', 'title': 'Additive_utility', 'touched': '20210309114314'} could not be collected...\n",
      "Node {'id': 48076041, 'len': 2175, 'metadata': {'wikidata': 'Q25313023'}, 'n': 'page', 'namespace': 0, 'nstext': '', 'q': 'Q25313023', 'title': 'Throw_away_paradox', 'touched': '20210907104902'} could not be collected...\n",
      "Node {'id': 48195477, 'len': 5487, 'metadata': {'wikidata': 'Q21623771'}, 'n': 'page', 'namespace': 0, 'nstext': '', 'q': 'Q21623771', 'title': 'Dixit–Stiglitz_model', 'touched': '20211008183141'} could not be collected...\n",
      "Node {'id': 48205282, 'len': 2488, 'metadata': {'wikidata': 'Q25203455'}, 'n': 'page', 'namespace': 0, 'nstext': '', 'q': 'Q25203455', 'title': 'Peso_problem_(finance)', 'touched': '20151222094324'} could not be collected...\n",
      "Node {'id': 48598823, 'len': 2924, 'metadata': {'wikidata': 'Q3235001'}, 'n': 'page', 'namespace': 0, 'nstext': '', 'q': 'Q3235001', 'title': 'Trade-to-GDP_ratio', 'touched': '20201231222854'} could not be collected...\n",
      "Node {'id': 48676301, 'len': 11282, 'metadata': {'wikidata': 'Q22905879'}, 'n': 'page', 'namespace': 0, 'nstext': '', 'q': 'Q22905879', 'title': 'Population_informatics', 'touched': '20191202154052'} could not be collected...\n",
      "Node {'id': 49022982, 'len': 9976, 'metadata': {'wikidata': 'Q25304581'}, 'n': 'page', 'namespace': 0, 'nstext': '', 'q': 'Q25304581', 'title': 'Incomplete_contracts', 'touched': '20210607165102'} could not be collected...\n",
      "Node {'id': 49607453, 'len': 1272, 'metadata': {'wikidata': 'Q25103602'}, 'n': 'page', 'namespace': 0, 'nstext': '', 'q': 'Q25103602', 'title': 'Economic_potential', 'touched': '20190520192445'} could not be collected...\n",
      "Node {'id': 50413747, 'len': 42911, 'metadata': {'wikidata': 'Q24965464'}, 'n': 'page', 'namespace': 0, 'nstext': '', 'q': 'Q24965464', 'title': 'Energy_modeling', 'touched': '20210615210344'} could not be collected...\n",
      "Node {'id': 50634536, 'len': 597, 'metadata': {'wikidata': 'Q25106123'}, 'n': 'page', 'namespace': 0, 'nstext': '', 'q': 'Q25106123', 'title': 'Early_Harvest_Scheme', 'touched': '20210306051317'} could not be collected...\n",
      "Node {'id': 50643444, 'len': 57915, 'metadata': {'wikidata': 'Q25108774'}, 'n': 'page', 'namespace': 0, 'nstext': '', 'q': 'Q25108774', 'title': 'List_of_special_economic_zones', 'touched': '20211114190211'} could not be collected...\n",
      "Node {'id': 66356911, 'len': 10644, 'metadata': {'wikidata': 'Q105095230'}, 'n': 'page', 'namespace': 0, 'nstext': '', 'q': 'Q105095230', 'title': 'Digital_public_goods', 'touched': '20211116092333'} could not be collected...\n"
     ]
    },
    {
     "data": {
      "application/vnd.jupyter.widget-view+json": {
       "model_id": "",
       "version_major": 2,
       "version_minor": 0
      },
      "text/plain": [
       "  0%|          | 0/1083 [00:00<?, ?it/s]"
      ]
     },
     "metadata": {},
     "output_type": "display_data"
    },
    {
     "name": "stdout",
     "output_type": "stream",
     "text": [
      "Node {'id': 51067, 'len': 19805, 'metadata': {'wikidata': 'Q17930'}, 'n': 'page', 'namespace': 0, 'nstext': '', 'q': 'Q17930', 'title': 'Anomie', 'touched': '20211031212126'} could not be collected...\n",
      "Node {'id': 56285, 'len': 102518, 'metadata': {'wikidata': 'Q12131'}, 'n': 'page', 'namespace': 0, 'nstext': '', 'q': 'Q12131', 'title': 'Disability', 'touched': '20211114003956'} could not be collected...\n",
      "Node {'id': 161973, 'len': 72682, 'metadata': {'wikidata': 'Q2798912'}, 'n': 'page', 'namespace': 0, 'nstext': '', 'q': 'Q2798912', 'title': 'Accountability', 'touched': '20210920185813'} could not be collected...\n",
      "Node {'id': 161975, 'len': 1057, 'metadata': {'wikidata': 'Q1274115'}, 'n': 'page', 'namespace': 0, 'nstext': '', 'q': 'Q1274115', 'title': 'Responsibility', 'touched': '20211111160409'} could not be collected...\n",
      "Node {'id': 323779, 'len': 50892, 'metadata': {'wikidata': 'Q831725'}, 'n': 'page', 'namespace': 0, 'nstext': '', 'q': 'Q831725', 'title': 'Structural_functionalism', 'touched': '20211007222318'} could not be collected...\n",
      "Node {'id': 615724, 'len': 12624, 'metadata': {'wikidata': 'Q1139554'}, 'n': 'page', 'namespace': 0, 'nstext': '', 'q': 'Q1139554', 'title': 'Subjectivity', 'touched': '20211018195158'} could not be collected...\n",
      "Node {'id': 648470, 'len': 43055, 'metadata': {'wikidata': 'Q252000'}, 'n': 'page', 'namespace': 0, 'nstext': '', 'q': 'Q252000', 'title': 'Oppression', 'touched': '20211116104121'} could not be collected...\n",
      "Node {'id': 936385, 'len': 35689, 'metadata': {'wikidata': 'Q2979'}, 'n': 'page', 'namespace': 0, 'nstext': '', 'q': 'Q2979', 'title': 'Liberty', 'touched': '20211019215509'} could not be collected...\n",
      "Node {'id': 1096446, 'len': 15213, 'metadata': {'wikidata': 'Q5162861'}, 'n': 'page', 'namespace': 0, 'nstext': '', 'q': 'Q5162861', 'title': 'Consent_of_the_governed', 'touched': '20211014034714'} could not be collected...\n",
      "Node {'id': 1742340, 'len': 8622, 'metadata': {'wikidata': 'Q7307357'}, 'n': 'page', 'namespace': 0, 'nstext': '', 'q': 'Q7307357', 'title': 'Reflexive_modernization', 'touched': '20210209103448'} could not be collected...\n",
      "Node {'id': 1860870, 'len': 76534, 'metadata': {'wikidata': 'Q1479527'}, 'n': 'page', 'namespace': 0, 'nstext': '', 'q': 'Q1479527', 'title': 'Environmental_justice', 'touched': '20211118065849'} could not be collected...\n",
      "Node {'id': 1878130, 'len': 45650, 'metadata': {'wikidata': 'Q4884227'}, 'n': 'page', 'namespace': 0, 'nstext': '', 'q': 'Q4884227', 'title': 'Bellwether', 'touched': '20211113210342'} could not be collected...\n",
      "Node {'id': 2871407, 'len': 70205, 'metadata': {'wikidata': 'Q131015'}, 'n': 'page', 'namespace': 0, 'nstext': '', 'q': 'Q131015', 'title': 'Positivism', 'touched': '20211118165455'} could not be collected...\n",
      "Node {'id': 4487022, 'len': 4497, 'metadata': {'wikidata': 'Q2463823'}, 'n': 'page', 'namespace': 0, 'nstext': '', 'q': 'Q2463823', 'title': 'Face-to-face_(philosophy)', 'touched': '20210916124144'} could not be collected...\n",
      "Node {'id': 5107917, 'len': 17515, 'metadata': {'wikidata': 'Q2919213'}, 'n': 'page', 'namespace': 0, 'nstext': '', 'q': 'Q2919213', 'title': 'Iron_cage', 'touched': '20211103194819'} could not be collected...\n",
      "Node {'id': 5151648, 'len': 6750, 'metadata': {'wikidata': 'Q7552789'}, 'n': 'page', 'namespace': 0, 'nstext': '', 'q': 'Q7552789', 'title': 'Cultural_trait', 'touched': '20210327030755'} could not be collected...\n",
      "Node {'id': 7299947, 'len': 19689, 'metadata': {'wikidata': 'Q18355989'}, 'n': 'page', 'namespace': 0, 'nstext': '', 'q': 'Q18355989', 'title': 'Fourierism', 'touched': '20210914103036'} could not be collected...\n",
      "Node {'id': 9754504, 'len': 15405, 'metadata': {'wikidata': 'Q6822259'}, 'n': 'page', 'namespace': 0, 'nstext': '', 'q': 'Q6822259', 'title': 'Meta-power', 'touched': '20210706031130'} could not be collected...\n",
      "Node {'id': 11920841, 'len': 1765, 'metadata': {'wikidata': 'Q7694305'}, 'n': 'page', 'namespace': 0, 'nstext': '', 'q': 'Q7694305', 'title': 'Teen_Line', 'touched': '20210803000540'} could not be collected...\n",
      "Node {'id': 17102733, 'len': 6147, 'metadata': {'wikidata': 'Q5419718'}, 'n': 'page', 'namespace': 0, 'nstext': '', 'q': 'Q5419718', 'title': 'Excorporation', 'touched': '20201228013810'} could not be collected...\n",
      "Node {'id': 20192650, 'len': 10895, 'metadata': {'wikidata': 'Q311045'}, 'n': 'page', 'namespace': 0, 'nstext': '', 'q': 'Q311045', 'title': 'Hygge', 'touched': '20211118202332'} could not be collected...\n",
      "Node {'id': 25488106, 'len': 804, 'metadata': {'wikidata': 'Q6497812'}, 'n': 'page', 'namespace': 0, 'nstext': '', 'q': 'Q6497812', 'title': 'Laudative', 'touched': '20210527104841'} could not be collected...\n",
      "Node {'id': 26555841, 'len': 3690, 'metadata': {'wikidata': 'Q7279192'}, 'n': 'page', 'namespace': 0, 'nstext': '', 'q': 'Q7279192', 'title': 'Rachel_Carson_Prize_(academic_book_prize)', 'touched': '20201122234228'} could not be collected...\n",
      "Node {'id': 33623974, 'len': 1337, 'metadata': {'wikidata': 'Q7548771'}, 'n': 'page', 'namespace': 0, 'nstext': '', 'q': 'Q7548771', 'title': 'Snub', 'touched': '20210708053957'} could not be collected...\n",
      "Node {'id': 43350024, 'len': 20274, 'metadata': {'wikidata': 'Q937465'}, 'n': 'page', 'namespace': 0, 'nstext': '', 'q': 'Q937465', 'title': 'Orthodox_Marxism', 'touched': '20211116103932'} could not be collected...\n",
      "Node {'id': 52044774, 'len': 9190, 'metadata': {'wikidata': 'Q28135506'}, 'n': 'page', 'namespace': 0, 'nstext': '', 'q': 'Q28135506', 'title': 'Attitude-behavior_consistency', 'touched': '20211105160607'} could not be collected...\n",
      "Node {'id': 68053006, 'len': 2701, 'metadata': {'wikidata': 'Q59626919'}, 'n': 'page', 'namespace': 0, 'nstext': '', 'q': 'Q59626919', 'title': 'Esther_Lucile_Brown', 'touched': '20210720202055'} could not be collected...\n",
      "Node {'id': 68460822, 'len': 1926, 'metadata': {'wikidata': 'Q108470586'}, 'n': 'page', 'namespace': 0, 'nstext': '', 'q': 'Q108470586', 'title': 'Black_tax', 'touched': '20211015135452'} could not be collected...\n"
     ]
    },
    {
     "data": {
      "application/vnd.jupyter.widget-view+json": {
       "model_id": "",
       "version_major": 2,
       "version_minor": 0
      },
      "text/plain": [
       "  0%|          | 0/1843 [00:00<?, ?it/s]"
      ]
     },
     "metadata": {},
     "output_type": "display_data"
    },
    {
     "name": "stdout",
     "output_type": "stream",
     "text": [
      "Node {'id': 16743, 'len': 192133, 'metadata': {'wikidata': 'Q9061'}, 'n': 'page', 'namespace': 0, 'nstext': '', 'q': 'Q9061', 'title': 'Karl_Marx', 'touched': '20211118222647'} could not be collected...\n",
      "Node {'id': 17547, 'len': 69654, 'metadata': {'wikidata': 'Q316'}, 'n': 'page', 'namespace': 0, 'nstext': '', 'q': 'Q316', 'title': 'Love', 'touched': '20211105005337'} could not be collected...\n",
      "Node {'id': 30299, 'len': 120720, 'metadata': {'wikidata': 'Q194100'}, 'n': 'page', 'namespace': 0, 'nstext': '', 'q': 'Q194100', 'title': 'Transhumanism', 'touched': '20211117175004'} could not be collected...\n",
      "Node {'id': 50024, 'len': 31673, 'metadata': {'wikidata': 'Q6498477'}, 'n': 'page', 'namespace': 0, 'nstext': '', 'q': 'Q6498477', 'title': 'Lust', 'touched': '20211108212706'} could not be collected...\n",
      "Node {'id': 154147, 'len': 37499, 'metadata': {'wikidata': 'Q1210705'}, 'n': 'page', 'namespace': 0, 'nstext': '', 'q': 'Q1210705', 'title': 'Limerence', 'touched': '20211017073138'} could not be collected...\n",
      "Node {'id': 189043, 'len': 33470, 'metadata': {'wikidata': 'Q1132131'}, 'n': 'page', 'namespace': 0, 'nstext': '', 'q': 'Q1132131', 'title': 'Loyalty', 'touched': '20210919214549'} could not be collected...\n",
      "Node {'id': 219599, 'len': 14659, 'metadata': {'wikidata': 'Q215627'}, 'n': 'page', 'namespace': 0, 'nstext': '', 'q': 'Q215627', 'title': 'Person', 'touched': '20211026010203'} could not be collected...\n",
      "Node {'id': 221554, 'len': 28638, 'metadata': {'wikidata': 'Q2115993'}, 'n': 'page', 'namespace': 0, 'nstext': '', 'q': 'Q2115993', 'title': 'Psychogeography', 'touched': '20211103025257'} could not be collected...\n",
      "Node {'id': 292598, 'len': 140827, 'metadata': {'wikidata': 'Q2673740'}, 'n': 'page', 'namespace': 0, 'nstext': '', 'q': 'Q2673740', 'title': 'Appalachia', 'touched': '20211110225446'} could not be collected...\n",
      "Node {'id': 477912, 'len': 6170, 'metadata': {'wikidata': 'Q7320374'}, 'n': 'page', 'namespace': 0, 'nstext': '', 'q': 'Q7320374', 'title': 'Rhema', 'touched': '20211003043937'} could not be collected...\n",
      "Node {'id': 488341, 'len': 74920, 'metadata': {'wikidata': 'Q171283'}, 'n': 'page', 'namespace': 0, 'nstext': '', 'q': 'Q171283', 'title': 'Homo', 'touched': '20211031175201'} could not be collected...\n",
      "Node {'id': 531990, 'len': 15574, 'metadata': {'wikidata': 'Q696994'}, 'n': 'page', 'namespace': 0, 'nstext': '', 'q': 'Q696994', 'title': 'Yangban', 'touched': '20211020225831'} could not be collected...\n",
      "Node {'id': 590768, 'len': 6023, 'metadata': {'wikidata': 'Q2976603'}, 'n': 'page', 'namespace': 0, 'nstext': '', 'q': 'Q2976603', 'title': 'Classic', 'touched': '20210818101817'} could not be collected...\n",
      "Node {'id': 635516, 'len': 13069, 'metadata': {'wikidata': 'Q381344'}, 'n': 'page', 'namespace': 0, 'nstext': '', 'q': 'Q381344', 'title': 'Consummation', 'touched': '20211105014634'} could not be collected...\n",
      "Node {'id': 743785, 'len': 9806, 'metadata': {'wikidata': 'Q385166'}, 'n': 'page', 'namespace': 0, 'nstext': '', 'q': 'Q385166', 'title': 'Ruling_class', 'touched': '20210915132647'} could not be collected...\n",
      "Node {'id': 769680, 'len': 14557, 'metadata': {'wikidata': 'Q1505781'}, 'n': 'page', 'namespace': 0, 'nstext': '', 'q': 'Q1505781', 'title': 'Castellan', 'touched': '20210930211528'} could not be collected...\n",
      "Node {'id': 1115806, 'len': 3521, 'metadata': {'wikidata': 'Q122333'}, 'n': 'page', 'namespace': 0, 'nstext': '', 'q': 'Q122333', 'title': 'ERG_theory', 'touched': '20210902054448'} could not be collected...\n",
      "Node {'id': 1136479, 'len': 6094, 'metadata': {'wikidata': 'Q640757'}, 'n': 'page', 'namespace': 0, 'nstext': '', 'q': 'Q640757', 'title': 'Kinesics', 'touched': '20210313125658'} could not be collected...\n",
      "Node {'id': 1657023, 'len': 23268, 'metadata': {'wikidata': 'Q1550467'}, 'n': 'page', 'namespace': 0, 'nstext': '', 'q': 'Q1550467', 'title': 'Basic_needs', 'touched': '20211008033400'} could not be collected...\n",
      "Node {'id': 1860451, 'len': 2367, 'metadata': {'wikidata': 'Q7229521'}, 'n': 'page', 'namespace': 0, 'nstext': '', 'q': 'Q7229521', 'title': 'Poppet', 'touched': '20211021183441'} could not be collected...\n",
      "Node {'id': 1913023, 'len': 23814, 'metadata': {'wikidata': 'Q1438846'}, 'n': 'page', 'namespace': 0, 'nstext': '', 'q': 'Q1438846', 'title': 'Mamzer', 'touched': '20211021054347'} could not be collected...\n",
      "Node {'id': 1929895, 'len': 36800, 'metadata': {'wikidata': 'Q1880695'}, 'n': 'page', 'namespace': 0, 'nstext': '', 'q': 'Q1880695', 'title': 'National_identity', 'touched': '20211026175519'} could not be collected...\n",
      "Node {'id': 1977435, 'len': 24745, 'metadata': {'wikidata': 'Q651941'}, 'n': 'page', 'namespace': 0, 'nstext': '', 'q': 'Q651941', 'title': 'Moralia', 'touched': '20211111040858'} could not be collected...\n",
      "Node {'id': 2145251, 'len': 14492, 'metadata': {'wikidata': 'Q2060600'}, 'n': 'page', 'namespace': 0, 'nstext': '', 'q': 'Q2060600', 'title': 'Shell_money', 'touched': '20210917153100'} could not be collected...\n",
      "Node {'id': 2452358, 'len': 447, 'metadata': {'wikidata': 'Q2022780'}, 'n': 'page', 'namespace': 0, 'nstext': '', 'q': 'Q2022780', 'title': 'Suci', 'touched': '20180816183132'} could not be collected...\n",
      "Node {'id': 3298264, 'len': 9532, 'metadata': {'wikidata': 'Q5937699'}, 'n': 'page', 'namespace': 0, 'nstext': '', 'q': 'Q5937699', 'title': 'Human_behavioral_ecology', 'touched': '20201016225523'} could not be collected...\n",
      "Node {'id': 4665199, 'len': 35081, 'metadata': {'wikidata': 'Q1666159'}, 'n': 'page', 'namespace': 0, 'nstext': '', 'q': 'Q1666159', 'title': 'Cultural_competence', 'touched': '20211030041335'} could not be collected...\n",
      "Node {'id': 5151648, 'len': 6750, 'metadata': {'wikidata': 'Q7552789'}, 'n': 'page', 'namespace': 0, 'nstext': '', 'q': 'Q7552789', 'title': 'Cultural_trait', 'touched': '20210327030755'} could not be collected...\n",
      "Node {'id': 6182302, 'len': 21316, 'metadata': {'wikidata': 'Q6400456'}, 'n': 'page', 'namespace': 0, 'nstext': '', 'q': 'Q6400456', 'title': 'Khap', 'touched': '20211028021326'} could not be collected...\n",
      "Node {'id': 7649801, 'len': 9655, 'metadata': {'wikidata': 'Q5251605'}, 'n': 'page', 'namespace': 0, 'nstext': '', 'q': 'Q5251605', 'title': 'Definition_of_man', 'touched': '20200212050436'} could not be collected...\n",
      "Node {'id': 10012638, 'len': 1719, 'metadata': {'wikidata': 'Q7614752'}, 'n': 'page', 'namespace': 0, 'nstext': '', 'q': 'Q7614752', 'title': 'Steven_Goldberg', 'touched': '20210701012630'} could not be collected...\n",
      "Node {'id': 12590877, 'len': 13104, 'metadata': {'wikidata': 'Q172766'}, 'n': 'page', 'namespace': 0, 'nstext': '', 'q': 'Q172766', 'title': 'Merlin_Stone', 'touched': '20210625200133'} could not be collected...\n",
      "Node {'id': 13507955, 'len': 1208, 'metadata': {'wikidata': 'Q7096236'}, 'n': 'page', 'namespace': 0, 'nstext': '', 'q': 'Q7096236', 'title': 'Open_Space_(TV_programme)', 'touched': '20200727151120'} could not be collected...\n",
      "Node {'id': 13759906, 'len': 26925, 'metadata': {'wikidata': 'Q3260901'}, 'n': 'page', 'namespace': 0, 'nstext': '', 'q': 'Q3260901', 'title': 'Virginity_test', 'touched': '20211118071530'} could not be collected...\n",
      "Node {'id': 18014813, 'len': 1664, 'metadata': {'wikidata': 'Q7418052'}, 'n': 'page', 'namespace': 0, 'nstext': '', 'q': 'Q7418052', 'title': 'Sangmin', 'touched': '20200720123810'} could not be collected...\n",
      "Node {'id': 18841893, 'len': 188855, 'metadata': {'wikidata': 'Q10791'}, 'n': 'page', 'namespace': 0, 'nstext': '', 'q': 'Q10791', 'title': 'Nudity', 'touched': '20211111005750'} could not be collected...\n",
      "Node {'id': 19288064, 'len': 789, 'metadata': {'wikidata': 'Q5553782'}, 'n': 'page', 'namespace': 0, 'nstext': '', 'q': 'Q5553782', 'title': 'Get_(animal)', 'touched': '20200824141816'} could not be collected...\n",
      "Node {'id': 22774335, 'len': 1756, 'metadata': {'wikidata': 'Q547460'}, 'n': 'page', 'namespace': 0, 'nstext': '', 'q': 'Q547460', 'title': 'Animal_symbolicum', 'touched': '20200509153913'} could not be collected...\n",
      "Node {'id': 24086319, 'len': 1728, 'metadata': {'wikidata': 'Q7862189'}, 'n': 'page', 'namespace': 0, 'nstext': '', 'q': 'Q7862189', 'title': 'Téach', 'touched': '20210629211948'} could not be collected...\n",
      "Node {'id': 25734402, 'len': 34316, 'metadata': {'wikidata': 'Q1320985'}, 'n': 'page', 'namespace': 0, 'nstext': '', 'q': 'Q1320985', 'title': 'Mars_Needs_Moms', 'touched': '20211110120416'} could not be collected...\n"
     ]
    },
    {
     "name": "stdout",
     "output_type": "stream",
     "text": [
      "Node {'id': 26266653, 'len': 9629, 'metadata': {'wikidata': 'Q192242'}, 'n': 'page', 'namespace': 0, 'nstext': '', 'q': 'Q192242', 'title': 'Frustration', 'touched': '20210928184310'} could not be collected...\n",
      "Node {'id': 27431805, 'len': 8831, 'metadata': {'wikidata': 'Q7495646'}, 'n': 'page', 'namespace': 0, 'nstext': '', 'q': 'Q7495646', 'title': 'Shetani', 'touched': '20210523204424'} could not be collected...\n",
      "Node {'id': 29331449, 'len': 18281, 'metadata': {'wikidata': 'Q14623169'}, 'n': 'page', 'namespace': 0, 'nstext': '', 'q': 'Q14623169', 'title': 'Nations_and_IQ', 'touched': '20211014025022'} could not be collected...\n",
      "Node {'id': 34104355, 'len': 50917, 'metadata': {'wikidata': 'Q7456400'}, 'n': 'page', 'namespace': 0, 'nstext': '', 'q': 'Q7456400', 'title': 'Subjective_well-being', 'touched': '20211108130206'} could not be collected...\n",
      "Node {'id': 36196531, 'len': 5387, 'metadata': {'wikidata': 'Q5508847'}, 'n': 'page', 'namespace': 0, 'nstext': '', 'q': 'Q5508847', 'title': 'Functional_sentence_perspective', 'touched': '20200726001821'} could not be collected...\n",
      "Node {'id': 36523419, 'len': 2589, 'metadata': {'wikidata': 'Q4941886'}, 'n': 'page', 'namespace': 0, 'nstext': '', 'q': 'Q4941886', 'title': 'Bongo-Bongo_(linguistics)', 'touched': '20210527113828'} could not be collected...\n",
      "Node {'id': 38956997, 'len': 3462, 'metadata': {'wikidata': 'Q16964191'}, 'n': 'page', 'namespace': 0, 'nstext': '', 'q': 'Q16964191', 'title': 'Polymedia', 'touched': '20190521181740'} could not be collected...\n",
      "Node {'id': 40371178, 'len': 855, 'metadata': {'wikidata': 'Q16937145'}, 'n': 'page', 'namespace': 0, 'nstext': '', 'q': 'Q16937145', 'title': 'Foramen_cecum_(dental)', 'touched': '20131005171349'} could not be collected...\n",
      "Node {'id': 46788547, 'len': 5057, 'metadata': {'wikidata': 'Q20800611'}, 'n': 'page', 'namespace': 0, 'nstext': '', 'q': 'Q20800611', 'title': 'The_Son_Also_Rises_(book)', 'touched': '20211108122038'} could not be collected...\n",
      "Node {'id': 46833154, 'len': 1834, 'metadata': {'wikidata': 'Q10333588'}, 'n': 'page', 'namespace': 0, 'nstext': '', 'q': 'Q10333588', 'title': 'Museu_Nacional_de_Antropologia_(Angola)', 'touched': '20210612094058'} could not be collected...\n",
      "Node {'id': 51343924, 'len': 6192, 'metadata': {'wikidata': 'Q31930406'}, 'n': 'page', 'namespace': 0, 'nstext': '', 'q': 'Q31930406', 'title': 'Weapons_of_the_Weak', 'touched': '20210718054946'} could not be collected...\n",
      "Node {'id': 66341789, 'len': 8873, 'metadata': {'wikidata': 'Q60024037'}, 'n': 'page', 'namespace': 0, 'nstext': '', 'q': 'Q60024037', 'title': 'Lingua_Libre', 'touched': '20210623135800'} could not be collected...\n",
      "Node {'id': 67769751, 'len': 2668, 'metadata': {'wikidata': 'Q106988676'}, 'n': 'page', 'namespace': 0, 'nstext': '', 'q': 'Q106988676', 'title': 'Peter_W._Wood', 'touched': '20211022184937'} could not be collected...\n",
      "Node {'id': 68168829, 'len': 2844, 'metadata': {'wikidata': 'Q107709591'}, 'n': 'page', 'namespace': 0, 'nstext': '', 'q': 'Q107709591', 'title': 'Cultural_activities', 'touched': '20211021141215'} could not be collected...\n"
     ]
    },
    {
     "data": {
      "application/vnd.jupyter.widget-view+json": {
       "model_id": "",
       "version_major": 2,
       "version_minor": 0
      },
      "text/plain": [
       "  0%|          | 0/1374 [00:00<?, ?it/s]"
      ]
     },
     "metadata": {},
     "output_type": "display_data"
    },
    {
     "name": "stdout",
     "output_type": "stream",
     "text": [
      "Node {'id': 10332, 'len': 69285, 'metadata': {'wikidata': 'Q59157'}, 'n': 'page', 'namespace': 0, 'nstext': '', 'q': 'Q59157', 'title': 'Educational_psychology', 'touched': '20211114002059'} could not be collected...\n",
      "Node {'id': 28297, 'len': 94037, 'metadata': {'wikidata': 'Q9165'}, 'n': 'page', 'namespace': 0, 'nstext': '', 'q': 'Q9165', 'title': 'Soul', 'touched': '20211118164536'} could not be collected...\n",
      "Node {'id': 36770, 'len': 9557, 'metadata': {'wikidata': 'Q324925'}, 'n': 'page', 'namespace': 0, 'nstext': '', 'q': 'Q324925', 'title': 'Tony_Buzan', 'touched': '20210623075754'} could not be collected...\n",
      "Node {'id': 102883, 'len': 96377, 'metadata': {'wikidata': 'Q34394'}, 'n': 'page', 'namespace': 0, 'nstext': '', 'q': 'Q34394', 'title': 'Belief', 'touched': '20211021183808'} could not be collected...\n",
      "Node {'id': 238212, 'len': 62446, 'metadata': {'wikidata': 'Q1987782'}, 'n': 'page', 'namespace': 0, 'nstext': '', 'q': 'Q1987782', 'title': 'Abnormal_psychology', 'touched': '20211108025327'} could not be collected...\n",
      "Node {'id': 449532, 'len': 22135, 'metadata': {'wikidata': 'Q402915'}, 'n': 'page', 'namespace': 0, 'nstext': '', 'q': 'Q402915', 'title': 'Rosenhan_experiment', 'touched': '20211002223352'} could not be collected...\n",
      "Node {'id': 476364, 'len': 3943, 'metadata': {'wikidata': 'Q3244134'}, 'n': 'page', 'namespace': 0, 'nstext': '', 'q': 'Q3244134', 'title': 'Anal_retentiveness', 'touched': '20210625004644'} could not be collected...\n",
      "Node {'id': 599054, 'len': 19159, 'metadata': {'wikidata': 'Q1070477'}, 'n': 'page', 'namespace': 0, 'nstext': '', 'q': 'Q1070477', 'title': 'Equity_theory', 'touched': '20211103085406'} could not be collected...\n",
      "Node {'id': 615724, 'len': 12624, 'metadata': {'wikidata': 'Q1139554'}, 'n': 'page', 'namespace': 0, 'nstext': '', 'q': 'Q1139554', 'title': 'Subjectivity', 'touched': '20211018195158'} could not be collected...\n",
      "Node {'id': 980435, 'len': 4307, 'metadata': {'wikidata': 'Q1521337'}, 'n': 'page', 'namespace': 0, 'nstext': '', 'q': 'Q1521337', 'title': 'Naturalistic_observation', 'touched': '20210426183120'} could not be collected...\n",
      "Node {'id': 993153, 'len': 13722, 'metadata': {'wikidata': 'Q1520777'}, 'n': 'page', 'namespace': 0, 'nstext': '', 'q': 'Q1520777', 'title': 'Certainty', 'touched': '20211031194453'} could not be collected...\n",
      "Node {'id': 1115806, 'len': 3521, 'metadata': {'wikidata': 'Q122333'}, 'n': 'page', 'namespace': 0, 'nstext': '', 'q': 'Q122333', 'title': 'ERG_theory', 'touched': '20210902054448'} could not be collected...\n",
      "Node {'id': 1188176, 'len': 17124, 'metadata': {'wikidata': 'Q1546872'}, 'n': 'page', 'namespace': 0, 'nstext': '', 'q': 'Q1546872', 'title': 'Rat_Park', 'touched': '20211014211146'} could not be collected...\n",
      "Node {'id': 1380826, 'len': 23540, 'metadata': {'wikidata': 'Q3078495'}, 'n': 'page', 'namespace': 0, 'nstext': '', 'q': 'Q3078495', 'title': 'DSM-IV_codes', 'touched': '20211108194208'} could not be collected...\n",
      "Node {'id': 1442889, 'len': 16132, 'metadata': {'wikidata': 'Q1123855'}, 'n': 'page', 'namespace': 0, 'nstext': '', 'q': 'Q1123855', 'title': 'Contemplation', 'touched': '20211118140347'} could not be collected...\n",
      "Node {'id': 2079352, 'len': 6111, 'metadata': {'wikidata': 'Q557945'}, 'n': 'page', 'namespace': 0, 'nstext': '', 'q': 'Q557945', 'title': 'Confusion', 'touched': '20210929130945'} could not be collected...\n",
      "Node {'id': 2184802, 'len': 40995, 'metadata': {'wikidata': 'Q6106509'}, 'n': 'page', 'namespace': 0, 'nstext': '', 'q': 'Q6106509', 'title': 'J._Michael_Bailey', 'touched': '20210921234420'} could not be collected...\n",
      "Node {'id': 3162419, 'len': 5108, 'metadata': {'wikidata': 'Q684893'}, 'n': 'page', 'namespace': 0, 'nstext': '', 'q': 'Q684893', 'title': 'Causa_sui', 'touched': '20210808155255'} could not be collected...\n",
      "Node {'id': 3555539, 'len': 12394, 'metadata': {'wikidata': 'Q17154561'}, 'n': 'page', 'namespace': 0, 'nstext': '', 'q': 'Q17154561', 'title': 'Tau_effect', 'touched': '20210919071431'} could not be collected...\n",
      "Node {'id': 3673589, 'len': 9330, 'metadata': {'wikidata': 'Q5246812'}, 'n': 'page', 'namespace': 0, 'nstext': '', 'q': 'Q5246812', 'title': 'Dear_Abby', 'touched': '20210929051206'} could not be collected...\n",
      "Node {'id': 4436261, 'len': 4139, 'metadata': {'wikidata': 'Q4757911'}, 'n': 'page', 'namespace': 0, 'nstext': '', 'q': 'Q4757911', 'title': 'Andrew_Mattison', 'touched': '20211116182052'} could not be collected...\n",
      "Node {'id': 5705042, 'len': 2793, 'metadata': {'wikidata': 'Q7300208'}, 'n': 'page', 'namespace': 0, 'nstext': '', 'q': 'Q7300208', 'title': 'Reachback', 'touched': '20171206164201'} could not be collected...\n",
      "Node {'id': 14936276, 'len': 3153, 'metadata': {'wikidata': 'Q7100719'}, 'n': 'page', 'namespace': 0, 'nstext': '', 'q': 'Q7100719', 'title': 'Orderliness', 'touched': '20210918113907'} could not be collected...\n",
      "Node {'id': 15236120, 'len': 4416, 'metadata': {'wikidata': 'Q18038556'}, 'n': 'page', 'namespace': 0, 'nstext': '', 'q': 'Q18038556', 'title': 'NPTN', 'touched': '20210911053321'} could not be collected...\n",
      "Node {'id': 17882797, 'len': 3430, 'metadata': {'wikidata': 'Q3410140'}, 'n': 'page', 'namespace': 0, 'nstext': '', 'q': 'Q3410140', 'title': 'Psychosociology', 'touched': '20191005184108'} could not be collected...\n",
      "Node {'id': 19629994, 'len': 16642, 'metadata': {'wikidata': 'Q738728'}, 'n': 'page', 'namespace': 0, 'nstext': '', 'q': 'Q738728', 'title': 'Penis_envy', 'touched': '20211021143825'} could not be collected...\n",
      "Node {'id': 20192650, 'len': 10895, 'metadata': {'wikidata': 'Q311045'}, 'n': 'page', 'namespace': 0, 'nstext': '', 'q': 'Q311045', 'title': 'Hygge', 'touched': '20211118202332'} could not be collected...\n",
      "Node {'id': 26422250, 'len': 18098, 'metadata': {'wikidata': 'Q7251704'}, 'n': 'page', 'namespace': 0, 'nstext': '', 'q': 'Q7251704', 'title': 'Proteus_effect', 'touched': '20210919071549'} could not be collected...\n",
      "Node {'id': 36115993, 'len': 6326, 'metadata': {'wikidata': 'Q889454'}, 'n': 'page', 'namespace': 0, 'nstext': '', 'q': 'Q889454', 'title': 'The_seven-year_itch', 'touched': '20211011221404'} could not be collected...\n",
      "Node {'id': 36400847, 'len': 5678, 'metadata': {'wikidata': 'Q7095708'}, 'n': 'page', 'namespace': 0, 'nstext': '', 'q': 'Q7095708', 'title': 'Open-mindedness', 'touched': '20210730201840'} could not be collected...\n",
      "Node {'id': 37315653, 'len': 36961, 'metadata': {'wikidata': 'Q17104185'}, 'n': 'page', 'namespace': 0, 'nstext': '', 'q': 'Q17104185', 'title': 'Moral_foundations_theory', 'touched': '20210916050336'} could not be collected...\n",
      "Node {'id': 43539700, 'len': 3998, 'metadata': {'wikidata': 'Q3024814'}, 'n': 'page', 'namespace': 0, 'nstext': '', 'q': 'Q3024814', 'title': 'Mourning_and_Melancholia', 'touched': '20211020053416'} could not be collected...\n",
      "Node {'id': 54405401, 'len': 9123, 'metadata': {'wikidata': 'Q39053154'}, 'n': 'page', 'namespace': 0, 'nstext': '', 'q': 'Q39053154', 'title': 'At_the_Hub', 'touched': '20210328081626'} could not be collected...\n",
      "Node {'id': 54888447, 'len': 44404, 'metadata': {'wikidata': 'Q55647821'}, 'n': 'page', 'namespace': 0, 'nstext': '', 'q': 'Q55647821', 'title': 'Functional_attitude_theory', 'touched': '20211117073336'} could not be collected...\n",
      "Node {'id': 61544571, 'len': 4364, 'metadata': {'wikidata': 'Q60769209'}, 'n': 'page', 'namespace': 0, 'nstext': '', 'q': 'Q60769209', 'title': 'Frequency_illusion', 'touched': '20211109205019'} could not be collected...\n",
      "Node {'id': 65681139, 'len': 3820, 'metadata': {'wikidata': 'Q105833912'}, 'n': 'page', 'namespace': 0, 'nstext': '', 'q': 'Q105833912', 'title': 'Mike_Nicholls', 'touched': '20210313140500'} could not be collected...\n",
      "Node {'id': 67057569, 'len': 2117, 'metadata': {'wikidata': 'Q105846798'}, 'n': 'page', 'namespace': 0, 'nstext': '', 'q': 'Q105846798', 'title': 'Hyperphantasia', 'touched': '20210830024045'} could not be collected...\n"
     ]
    }
   ],
   "source": [
    "# We now make our actual query be specying, parent-categories and depth\n",
    "parent_categories = ['political_science', 'economics', 'sociology', 'anthropology', 'psychology']\n",
    "depths = [1]\n",
    "nodes = []\n",
    "for d in tqdm(depths):\n",
    "    nodes += collect_nodes(parent_categories, d)"
   ]
  },
  {
   "cell_type": "markdown",
   "metadata": {},
   "source": [
    "Following the collection of pages we gather them in a dataframe and edgelist for future use. To reduce the size of edgelist we alreay now remove edges that points to pages we have not collected. This means that we only keep edges that link to other pages in one of the five categories. "
   ]
  },
  {
   "cell_type": "code",
   "execution_count": 129,
   "metadata": {
    "ExecuteTime": {
     "end_time": "2021-11-19T14:43:17.748798Z",
     "start_time": "2021-11-19T14:43:17.739559Z"
    }
   },
   "outputs": [],
   "source": [
    "# Based on our nodes we can now create and save our df for future use\n",
    "def create_df(nodes = nodes):\n",
    "    return pd.DataFrame({\"name\": [node.name for node in nodes],\n",
    "                         \"parent\": [node.parent for node in nodes],\n",
    "                         \"depth\": [node.depth for node in nodes],\n",
    "                         \"edges\": [node.edges for node in nodes],\n",
    "                         \"text\": [node.text for node in nodes],\n",
    "                         \"categories\": [node.categories for node in nodes]})\n",
    "\n",
    "df = create_df()\n",
    "df.to_pickle(\"df.obj\")"
   ]
  },
  {
   "cell_type": "code",
   "execution_count": 130,
   "metadata": {
    "ExecuteTime": {
     "end_time": "2021-11-19T14:43:18.598906Z",
     "start_time": "2021-11-19T14:43:18.592556Z"
    }
   },
   "outputs": [],
   "source": [
    "# Based on our nodes we can now create a edgelist and save our ot for future use\n",
    "def create_edgelist(nodes = nodes):\n",
    "    nodelist = [node.name for node in nodes]\n",
    "    edgelist = [[(nodes[i].name, edge) for edge in nodes[i].edges if edge in nodelist]\n",
    "                for i in tqdm(range(len(nodes)))]\n",
    "    return list(chain.from_iterable(edgelist))\n",
    "\n",
    "edgelist = create_edgelist()\n",
    "with open('edgelist.obj', 'wb') as f:\n",
    "    pickle.dump(edgelist, f)"
   ]
  }
 ],
 "metadata": {
  "kernelspec": {
   "display_name": "Python 3",
   "language": "python",
   "name": "python3"
  },
  "language_info": {
   "codemirror_mode": {
    "name": "ipython",
    "version": 3
   },
   "file_extension": ".py",
   "mimetype": "text/x-python",
   "name": "python",
   "nbconvert_exporter": "python",
   "pygments_lexer": "ipython3",
   "version": "3.8.8"
  }
 },
 "nbformat": 4,
 "nbformat_minor": 4
}
