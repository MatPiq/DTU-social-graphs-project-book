{
 "cells": [
  {
   "cell_type": "markdown",
   "id": "3417db42",
   "metadata": {},
   "source": [
    "# Data Description"
   ]
  },
  {
   "cell_type": "markdown",
   "id": "82223cf2",
   "metadata": {},
   "source": [
    "For our project, we collected wikipedia articles corresponding to five major social science diciplines: Economics, Political Science, Anthropology, Sociology and Psychology. To understand how we did this one need to know the structure of how information is stored into [categories](https://en.wikipedia.org/wiki/Wikipedia:Contents/Categories) on Wikipedia. Each category blablabla..."
   ]
  },
  {
   "cell_type": "code",
   "execution_count": 41,
   "id": "8b0b537a",
   "metadata": {
    "tags": [
     "hide-input"
    ]
   },
   "outputs": [],
   "source": [
    "# Create illustration of wikipedia structure\n",
    "import pygraphviz as pgv\n",
    "\n",
    "G=pgv.AGraph(directed=True)\n",
    "\n",
    "G.add_node(\"ROOT\", label=\"Category: Social sciences\", fontsize=20)\n",
    "G.add_node(\"ROOT_i\", label=\"Depth 0\", shape = \"plaintext\", fontsize=20)\n",
    "\n",
    "disciplines = [\"Anthropology\",\n",
    "               \"Economics\",\n",
    "               \"Sociology\",\n",
    "               \"Political Science\",\n",
    "               \"Psychology\"]\n",
    "\n",
    "for i,k in enumerate(disciplines):\n",
    "    G.add_node(\"Child_%i\" % i, label=f\"Subcategory: {k}\")\n",
    "    G.add_edge(\"ROOT\", \"Child_%i\" % i)\n",
    "    G.add_node(\"Grandchild_%i\" % i, label = f\"List of {k} sub-subcategories\")\n",
    "    G.add_edge(\"Child_%i\" % i, \"Grandchild_%i\" % i)\n",
    "    G.add_node(\"Greatgrandchild_%i\" % i, label = f\"... n list of {k} sub-subcategories\")\n",
    "    G.add_edge(\"Grandchild_%i\" % i, \"Greatgrandchild_%i\" % i)\n",
    "\n",
    "G.add_node(\"Child_%ix\" % i, label=\"Depth 1\", shape = \"plaintext\", fontsize=20)\n",
    "G.add_node(\"Grandchild_%ix\" % i, label=\"Depth 2\", shape = \"plaintext\", fontsize=20)\n",
    "G.add_node(\"Greatgrandchild_%ix\" % i, label=\"Depth n\", shape = \"plaintext\", fontsize=20)\n",
    "\n",
    "G.add_edge(\"ROOT_i\", \"Child_%ix\" % i)\n",
    "G.add_edge(\"Child_%ix\" % i, \"Grandchild_%ix\" % i)\n",
    "G.add_edge(\"Grandchild_%ix\" % i, \"Greatgrandchild_%ix\" % i)\n",
    "\n",
    "G.layout(prog='dot')\n",
    "G.draw('wikipedia_struture.png')"
   ]
  },
  {
   "cell_type": "markdown",
   "id": "6eb8c0e1",
   "metadata": {
    "ExecuteTime": {
     "end_time": "2021-12-07T22:06:32.670706Z",
     "start_time": "2021-12-07T22:06:32.499940Z"
    }
   },
   "source": [
    "![](wikipedia_struture.png)"
   ]
  },
  {
   "cell_type": "markdown",
   "id": "1be40f3c",
   "metadata": {},
   "source": [
    "To do this we used the tool [PetScan](https://petscan.wmflabs.org/) which enabled us to find all the sub-categories or pages for each discipline depending on the depth of query. Petscan can then be accessed programmatically through Python and provide us with a relevant list of pages to get. "
   ]
  },
  {
   "cell_type": "markdown",
   "id": "76daaffe",
   "metadata": {},
   "source": [
    "![](petscan.gif)"
   ]
  },
  {
   "cell_type": "markdown",
   "id": "cc23e840",
   "metadata": {},
   "source": [
    "The table bellow shows the five first observations of our data-set, which includes the following variables:\n",
    "\n",
    "* `name`: The name of the Wikipedia article.\n",
    "* `parent`: The discipline to which the article belongs.\n",
    "* `edges`: Contains all links to another Wikipedia page.\n",
    "* `text`: The raw text of the article.\n",
    "* `cleaned_text`: Punctuation removed, lower-cased.\n",
    "* `lemmatized`: The cleaned text in lemmatized form, stop words removed.\n",
    "* `gcc`: Dummy for if the article is part of the giant component in the network.\n",
    "\n",
    "The data can be downloaded from the following [link](https://drive.google.com/file/d/1U0Q8eMvp50crf383ykE1anB5J4oq_mrc/view?usp=sharing)."
   ]
  },
  {
   "cell_type": "code",
   "execution_count": 66,
   "id": "0c65e31d",
   "metadata": {
    "scrolled": true,
    "tags": [
     "hide-input"
    ]
   },
   "outputs": [
    {
     "data": {
      "text/html": [
       "<div>\n",
       "<style scoped>\n",
       "    .dataframe tbody tr th:only-of-type {\n",
       "        vertical-align: middle;\n",
       "    }\n",
       "\n",
       "    .dataframe tbody tr th {\n",
       "        vertical-align: top;\n",
       "    }\n",
       "\n",
       "    .dataframe thead th {\n",
       "        text-align: right;\n",
       "    }\n",
       "</style>\n",
       "<table border=\"1\" class=\"dataframe\">\n",
       "  <thead>\n",
       "    <tr style=\"text-align: right;\">\n",
       "      <th></th>\n",
       "      <th>parent</th>\n",
       "      <th>edges</th>\n",
       "      <th>text</th>\n",
       "      <th>cleaned_text</th>\n",
       "      <th>lemmatized</th>\n",
       "      <th>gcc</th>\n",
       "    </tr>\n",
       "    <tr>\n",
       "      <th>name</th>\n",
       "      <th></th>\n",
       "      <th></th>\n",
       "      <th></th>\n",
       "      <th></th>\n",
       "      <th></th>\n",
       "      <th></th>\n",
       "    </tr>\n",
       "  </thead>\n",
       "  <tbody>\n",
       "    <tr>\n",
       "      <th>Anarchism</th>\n",
       "      <td>political_science</td>\n",
       "      <td>[-ism, 1872 Hague Congress, 1919 United States...</td>\n",
       "      <td>Anarchism is a political philosophy and moveme...</td>\n",
       "      <td>anarchism is a political philosophy and moveme...</td>\n",
       "      <td>anarchism political philosophy movement scepti...</td>\n",
       "      <td>1</td>\n",
       "    </tr>\n",
       "    <tr>\n",
       "      <th>Census</th>\n",
       "      <td>political_science</td>\n",
       "      <td>[2011 Canadian census, Ab urbe condita (book),...</td>\n",
       "      <td>A census is the procedure of systematically ca...</td>\n",
       "      <td>a census is the procedure of systematically ca...</td>\n",
       "      <td>a census procedure systematically calculating ...</td>\n",
       "      <td>1</td>\n",
       "    </tr>\n",
       "    <tr>\n",
       "      <th>Comparative_law</th>\n",
       "      <td>political_science</td>\n",
       "      <td>[Act of Congress, Act of Parliament, Adjudicat...</td>\n",
       "      <td>Comparative law is the study of differences an...</td>\n",
       "      <td>comparative law is the study of differences an...</td>\n",
       "      <td>comparative law study difference similarity la...</td>\n",
       "      <td>1</td>\n",
       "    </tr>\n",
       "    <tr>\n",
       "      <th>Code_of_Hammurabi</th>\n",
       "      <td>political_science</td>\n",
       "      <td>['Ain Ghazal Statues, A. Leo Oppenheim, A Medi...</td>\n",
       "      <td>The Code of Hammurabi is a Babylonian legal te...</td>\n",
       "      <td>the code of hammurabi is a babylonian legal te...</td>\n",
       "      <td>the code hammurabi babylonian legal text compo...</td>\n",
       "      <td>1</td>\n",
       "    </tr>\n",
       "    <tr>\n",
       "      <th>Egalitarianism</th>\n",
       "      <td>political_science</td>\n",
       "      <td>[Abdullah Öcalan, Abraham Lincoln, Adam Smith,...</td>\n",
       "      <td>Egalitarianism (from French  égal 'equal'), or...</td>\n",
       "      <td>egalitarianism from french  égal equal or equa...</td>\n",
       "      <td>egalitarianism french égal equal equalitariani...</td>\n",
       "      <td>1</td>\n",
       "    </tr>\n",
       "  </tbody>\n",
       "</table>\n",
       "</div>"
      ],
      "text/plain": [
       "                              parent  \\\n",
       "name                                   \n",
       "Anarchism          political_science   \n",
       "Census             political_science   \n",
       "Comparative_law    political_science   \n",
       "Code_of_Hammurabi  political_science   \n",
       "Egalitarianism     political_science   \n",
       "\n",
       "                                                               edges  \\\n",
       "name                                                                   \n",
       "Anarchism          [-ism, 1872 Hague Congress, 1919 United States...   \n",
       "Census             [2011 Canadian census, Ab urbe condita (book),...   \n",
       "Comparative_law    [Act of Congress, Act of Parliament, Adjudicat...   \n",
       "Code_of_Hammurabi  ['Ain Ghazal Statues, A. Leo Oppenheim, A Medi...   \n",
       "Egalitarianism     [Abdullah Öcalan, Abraham Lincoln, Adam Smith,...   \n",
       "\n",
       "                                                                text  \\\n",
       "name                                                                   \n",
       "Anarchism          Anarchism is a political philosophy and moveme...   \n",
       "Census             A census is the procedure of systematically ca...   \n",
       "Comparative_law    Comparative law is the study of differences an...   \n",
       "Code_of_Hammurabi  The Code of Hammurabi is a Babylonian legal te...   \n",
       "Egalitarianism     Egalitarianism (from French  égal 'equal'), or...   \n",
       "\n",
       "                                                        cleaned_text  \\\n",
       "name                                                                   \n",
       "Anarchism          anarchism is a political philosophy and moveme...   \n",
       "Census             a census is the procedure of systematically ca...   \n",
       "Comparative_law    comparative law is the study of differences an...   \n",
       "Code_of_Hammurabi  the code of hammurabi is a babylonian legal te...   \n",
       "Egalitarianism     egalitarianism from french  égal equal or equa...   \n",
       "\n",
       "                                                          lemmatized  gcc  \n",
       "name                                                                       \n",
       "Anarchism          anarchism political philosophy movement scepti...    1  \n",
       "Census             a census procedure systematically calculating ...    1  \n",
       "Comparative_law    comparative law study difference similarity la...    1  \n",
       "Code_of_Hammurabi  the code hammurabi babylonian legal text compo...    1  \n",
       "Egalitarianism     egalitarianism french égal equal equalitariani...    1  "
      ]
     },
     "execution_count": 66,
     "metadata": {},
     "output_type": "execute_result"
    }
   ],
   "source": [
    "import pandas as pd\n",
    "import numpy as np\n",
    "from ast import literal_eval\n",
    "from collections import defaultdict\n",
    "\n",
    "\n",
    "df = pd.read_pickle('/home/matiasp/University/m2/socialgraphs2021-Matias/project/df_preprocessed.obj')\n",
    "df = df.drop(columns=['categories', 'depth', 'tokens', 'Unnamed: 0']).dropna()\n",
    "df['edges'] = df['edges'].apply(lambda x: literal_eval(x))\n",
    "df.set_index('name').head()"
   ]
  },
  {
   "cell_type": "markdown",
   "id": "9f2ab34a",
   "metadata": {},
   "source": [
    "In the table bellow we display summary statistics including the average number of articles for each discipline, number of edges and word count. As can be seen the distribution is rather skewed, with Antropology for example having more than double the amount of articles compared to Political Science. "
   ]
  },
  {
   "cell_type": "code",
   "execution_count": 62,
   "id": "abf79627",
   "metadata": {
    "tags": [
     "hide-input"
    ]
   },
   "outputs": [
    {
     "data": {
      "text/html": [
       "<div>\n",
       "<style scoped>\n",
       "    .dataframe tbody tr th:only-of-type {\n",
       "        vertical-align: middle;\n",
       "    }\n",
       "\n",
       "    .dataframe tbody tr th {\n",
       "        vertical-align: top;\n",
       "    }\n",
       "\n",
       "    .dataframe thead th {\n",
       "        text-align: right;\n",
       "    }\n",
       "</style>\n",
       "<table border=\"1\" class=\"dataframe\">\n",
       "  <thead>\n",
       "    <tr style=\"text-align: right;\">\n",
       "      <th></th>\n",
       "      <th>Number of articles</th>\n",
       "      <th>Avg. edges</th>\n",
       "      <th>Avg. word count</th>\n",
       "    </tr>\n",
       "    <tr>\n",
       "      <th>Discipline</th>\n",
       "      <th></th>\n",
       "      <th></th>\n",
       "      <th></th>\n",
       "    </tr>\n",
       "  </thead>\n",
       "  <tbody>\n",
       "    <tr>\n",
       "      <th>political_science</th>\n",
       "      <td>418</td>\n",
       "      <td>218.65</td>\n",
       "      <td>12748.76</td>\n",
       "    </tr>\n",
       "    <tr>\n",
       "      <th>economics</th>\n",
       "      <td>675</td>\n",
       "      <td>82.67</td>\n",
       "      <td>4399.29</td>\n",
       "    </tr>\n",
       "    <tr>\n",
       "      <th>sociology</th>\n",
       "      <td>684</td>\n",
       "      <td>137.08</td>\n",
       "      <td>9135.81</td>\n",
       "    </tr>\n",
       "    <tr>\n",
       "      <th>anthropology</th>\n",
       "      <td>1198</td>\n",
       "      <td>193.84</td>\n",
       "      <td>10567.26</td>\n",
       "    </tr>\n",
       "    <tr>\n",
       "      <th>psychology</th>\n",
       "      <td>955</td>\n",
       "      <td>127.90</td>\n",
       "      <td>10447.76</td>\n",
       "    </tr>\n",
       "  </tbody>\n",
       "</table>\n",
       "</div>"
      ],
      "text/plain": [
       "                   Number of articles  Avg. edges  Avg. word count\n",
       "Discipline                                                        \n",
       "political_science                 418      218.65         12748.76\n",
       "economics                         675       82.67          4399.29\n",
       "sociology                         684      137.08          9135.81\n",
       "anthropology                     1198      193.84         10567.26\n",
       "psychology                        955      127.90         10447.76"
      ]
     },
     "execution_count": 62,
     "metadata": {},
     "output_type": "execute_result"
    }
   ],
   "source": [
    "#Create descriptives table\n",
    "tab = defaultdict(list)\n",
    "for discipline in df['parent'].unique():\n",
    "    avg_edges = []\n",
    "    avg_pagelen = []\n",
    "    for row in df.loc[df['parent']==discipline].iterrows():\n",
    "        avg_edges.append(len(row[1]['edges']))\n",
    "        avg_pagelen.append(len(row[1]['tokens']))\n",
    "    \n",
    "    tab['Discipline'].append(discipline)\n",
    "    tab['Number of articles'].append(df.loc[df['parent']==discipline].shape[0])\n",
    "    tab['Avg. edges'].append(np.mean(avg_edges))\n",
    "    tab['Avg. word count'].append(np.mean(avg_pagelen))\n",
    "tab = pd.DataFrame(tab)\n",
    "tab.set_index('Discipline').round(2)"
   ]
  }
 ],
 "metadata": {
  "celltoolbar": "Edit Metadata",
  "kernelspec": {
   "display_name": "Python 3 (ipykernel)",
   "language": "python",
   "name": "python3"
  },
  "language_info": {
   "codemirror_mode": {
    "name": "ipython",
    "version": 3
   },
   "file_extension": ".py",
   "mimetype": "text/x-python",
   "name": "python",
   "nbconvert_exporter": "python",
   "pygments_lexer": "ipython3",
   "version": "3.8.8"
  }
 },
 "nbformat": 4,
 "nbformat_minor": 5
}
