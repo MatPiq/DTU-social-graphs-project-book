{
 "cells": [
  {
   "cell_type": "markdown",
   "id": "b9e6fe24",
   "metadata": {},
   "source": [
    "# Data Description"
   ]
  },
  {
   "cell_type": "markdown",
   "id": "e08882f5",
   "metadata": {},
   "source": [
    "For our project, we collected wikipedia articles corresponding to five major social science diciplines: Economics, Political Science, Anthropology, Sociology and Psychology. To do this we used the tool [petscan](https://petscan.wmflabs.org/) which enables one to find all the sub-categories/articles corresponding to a given page. Petscan can be access both through a web-interface or programmatically through for example Python. We did it programmatically by querying the main page corresponding to each discipline."
   ]
  },
  {
   "cell_type": "markdown",
   "id": "28d8d82f",
   "metadata": {},
   "source": [
    "**Insert GIF about HERE**"
   ]
  },
  {
   "cell_type": "code",
   "execution_count": 31,
   "id": "f2327bc5",
   "metadata": {},
   "outputs": [
    {
     "data": {
      "application/javascript": [
       "require.config({\n",
       "    paths: {\n",
       "        datatables: 'https://cdn.datatables.net/1.10.19/js/jquery.dataTables.min',\n",
       "    }\n",
       "});\n",
       "\n",
       "$('head').append('<link rel=\"stylesheet\" type=\"text/css\" \\\n",
       "                href = \"https://cdn.datatables.net/1.10.19/css/jquery.dataTables.min.css\" > ');\n",
       "\n",
       "$('head').append('<style> table td { text-overflow: ellipsis; overflow: hidden; } </style>');\n",
       "\n",
       "$('head').append(`<script>\n",
       "function eval_functions(map_or_text) {\n",
       "    if (typeof map_or_text === \"string\") {\n",
       "        if (map_or_text.startsWith(\"function\")) {\n",
       "            try {\n",
       "                // Note: parenthesis are required around the whole expression for eval to return a value!\n",
       "                // See https://stackoverflow.com/a/7399078/911298.\n",
       "                //\n",
       "                // eval(\"local_fun = \" + map_or_text) would fail because local_fun is not declared\n",
       "                // (using var, let or const would work, but it would only be declared in the local scope\n",
       "                // and therefore the value could not be retrieved).\n",
       "                const func = eval(\"(\" + map_or_text + \")\");\n",
       "                if (typeof func !== \"function\") {\n",
       "                    // Note: backquotes are super convenient!\n",
       "                    // https://developer.mozilla.org/en-US/docs/Web/JavaScript/Reference/Template_literals\n",
       "                    console.error(\"Evaluated expression \" + map_or_text + \" is not a function (type is \" + typeof func + \")\");\n",
       "                    return map_or_text;\n",
       "                }\n",
       "                // Return the function\n",
       "                return func;\n",
       "            } catch (e) {\n",
       "                // Make sure to print the error with a second argument to console.error().\n",
       "                console.error(\"itables was not able to parse \" + map_or_text, e);\n",
       "            }\n",
       "        }\n",
       "    } else if (typeof map_or_text === \"object\") {\n",
       "        if (map_or_text instanceof Array) {\n",
       "            // Note: \"var\" is now superseded by \"let\" and \"const\".\n",
       "            // https://medium.com/javascript-scene/javascript-es6-var-let-or-const-ba58b8dcde75\n",
       "            const result = [];\n",
       "            // Note: \"for of\" is the best way to iterate through an iterable.\n",
       "            // https://developer.mozilla.org/en-US/docs/Web/JavaScript/Reference/Statements/for...of\n",
       "            for (const item of map_or_text) {\n",
       "                result.push(eval_functions(item));\n",
       "            }\n",
       "            return result;\n",
       "\n",
       "            // Alternatively, more functional approach in one line:\n",
       "            // return map_or_text.map(eval_functions);\n",
       "        } else {\n",
       "            const result = {};\n",
       "            // Object.keys() is safer than \"for in\" because otherwise you might have keys\n",
       "            // that aren't defined in the object itself.\n",
       "            //\n",
       "            // See https://stackoverflow.com/a/684692/911298.\n",
       "            for (const item of Object.keys(map_or_text)) {\n",
       "                result[item] = eval_functions(map_or_text[item]);\n",
       "            }\n",
       "            return result;\n",
       "        }\n",
       "    }\n",
       "\n",
       "    return map_or_text;\n",
       "}\n",
       "\n",
       "</` + 'script>');"
      ],
      "text/plain": [
       "<IPython.core.display.Javascript object>"
      ]
     },
     "metadata": {},
     "output_type": "display_data"
    },
    {
     "data": {
      "text/html": [
       "<div><table id=\"131e99c9-78f0-4b5f-8b51-06b68ab0d5d5\" class=\"display\"><thead>\n",
       "    <tr style=\"text-align: right;\">\n",
       "      \n",
       "      <th>Article Name</th>\n",
       "      <th>discipline</th>\n",
       "    </tr>\n",
       "  </thead></table>\n",
       "<script type=\"text/javascript\">\n",
       "require([\"datatables\"], function (datatables) {\n",
       "    $(document).ready(function () {\n",
       "        var dt_args = {\"columnDefs\": [{\"width\": \"70px\", \"targets\": \"_all\"}], \"data\": [[\"Andean_civilizations\", \"anthropology\"], [\"Sociological_Association_of_Aotearoa_(New_Zealand)\", \"sociology\"], [\"Thematic_structure\", \"anthropology\"], [\"Bargaining_model_of_war\", \"economics\"], [\"Director's_law\", \"economics\"], [\"Criminal_psychology\", \"psychology\"], [\"Cultural_emphasis\", \"anthropology\"], [\"European_Society_for_Philosophy_and_Psychology\", \"psychology\"], [\"Suggestion_Theory\", \"psychology\"], [\"Benefit_incidence\", \"economics\"], [\"Cultural_divide\", \"sociology\"], [\"Arrow's_impossibility_theorem\", \"economics\"], [\"International_Political_Science_Association\", \"political_science\"], [\"Private_benefits_of_control\", \"economics\"], [\"Neurotransmitter_receptor\", \"psychology\"], [\"Fallen_woman\", \"anthropology\"], [\"Mitma\", \"anthropology\"], [\"Political_ponerology\", \"sociology\"], [\"Heterodox_economics\", \"economics\"], [\"Political_polarization\", \"political_science\"], [\"Parentado\", \"anthropology\"], [\"Apolista\", \"anthropology\"], [\"Lock-up_period\", \"economics\"], [\"Art_world\", \"anthropology\"], [\"Light-dark_box_test\", \"psychology\"], [\"Malikism_in_Algeria\", \"political_science\"], [\"Social_dualism\", \"sociology\"], [\"Changing_Our_Minds:_The_Story_of_Dr._Evelyn_Hooker\", \"psychology\"], [\"Toxic_masculinity\", \"psychology\"], [\"Magic_number_(oil)\", \"economics\"], [\"Linguistics_in_science_fiction\", \"anthropology\"], [\"Dollar_auction\", \"economics\"], [\"Sweetgrass_(film)\", \"anthropology\"], [\"Virginia_Institute_for_Psychiatric_and_Behavioral_Genetics\", \"psychology\"], [\"Lifeway\", \"sociology\"], [\"Debt_compliance\", \"economics\"], [\"Rule_complex\", \"sociology\"], [\"Safety-valve_institution\", \"sociology\"], [\"Public_sector_borrowing_requirement\", \"economics\"], [\"Vladim\\u00edr_\\u010cerm\\u00e1k\", \"political_science\"], [\"Bobo_doll_experiment\", \"psychology\"], [\"Social_poetry\", \"sociology\"], [\"Series_6_exam\", \"economics\"], [\"Obedient_Wives_Club\", \"anthropology\"], [\"Bureaucratic_collectivism\", \"political_science\"], [\"China_watcher\", \"political_science\"], [\"Legal_norm\", \"political_science\"], [\"Choice_modelling\", \"economics\"], [\"Imagery_of_nude_celebrities\", \"sociology\"], [\"Generative_anthropology\", \"anthropology\"], [\"Public_policy_degrees\", \"political_science\"], [\"Mus\\u00e9e_d'Ethnographie_du_Trocad\\u00e9ro\", \"anthropology\"], [\"Standard_Cross-Cultural_Sample\", \"anthropology\"], [\"DeFries\\u2013Fulker_regression\", \"psychology\"], [\"Raison_oblige_theory\", \"psychology\"], [\"Average_variable_cost\", \"economics\"], [\"Brannon_Masculinity_Scale\", \"psychology\"], [\"Corporative_federalism\", \"political_science\"], [\"Shetani\", \"anthropology\"], [\"Function_cost_analysis\", \"economics\"], [\"Developmentalism\", \"economics\"], [\"Formicophilia\", \"psychology\"], [\"Geschwind\\u2013Galaburda_hypothesis\", \"psychology\"], [\"Sciences_Po\", \"political_science\"], [\"Natural_scene_perception\", \"psychology\"], [\"Consanguinity\", \"anthropology\"], [\"Anomie\", \"sociology\"], [\"Racial_transformation\", \"political_science\"], [\"B\\u00f3ndi\", \"anthropology\"], [\"Axe-monies\", \"anthropology\"], [\"Subjective_well-being\", \"anthropology\"], [\"Social_system\", \"sociology\"], [\"Journal_of_Homosexuality\", \"anthropology\"], [\"Seat_of_government\", \"political_science\"], [\"Collective_mental_state\", \"sociology\"], [\"C\\u00e4cilie_M.\", \"psychology\"], [\"Strategy_of_tension\", \"political_science\"], [\"Vignette_(psychology)\", \"sociology\"], [\"Rent-gap_theory\", \"economics\"], [\"Smith_Breeden_Prize\", \"economics\"], [\"Lust\", \"anthropology\"], [\"Values_Modes\", \"political_science\"], [\"Anthropometric_history\", \"anthropology\"], [\"Chinese_social_relations\", \"sociology\"], [\"The_Pittsburgh_Survey\", \"sociology\"], [\"Legal_history\", \"political_science\"], [\"Flow_to_market\", \"economics\"], [\"Snub\", \"sociology\"], [\"Free-market_anarchism\", \"political_science\"], [\"Nanoeconomics\", \"economics\"], [\"Janet_Monge\", \"anthropology\"], [\"Demand_curve\", \"economics\"], [\"Late_fee\", \"economics\"], [\"Les_raquetteurs\", \"anthropology\"], [\"Prebendalism\", \"political_science\"], [\"Public_engagement\", \"political_science\"], [\"Ulcers_in_Executive_Monkeys\", \"psychology\"], [\"Merlin_Stone\", \"anthropology\"], [\"Reactive_ethnicity\", \"sociology\"], [\"Identity_fusion\", \"anthropology\"], [\"Property\", \"anthropology\"], [\"Power-control_theory_of_gender_and_delinquency\", \"political_science\"], [\"Hedonic_index\", \"economics\"], [\"Deconcentration_of_attention\", \"psychology\"], [\"Krackhardt_E/I_Ratio\", \"sociology\"], [\"Foresight_(psychology)\", \"psychology\"], [\"Phallic_woman\", \"psychology\"], [\"Contrast_set\", \"anthropology\"], [\"99ers\", \"economics\"], [\"Clash_of_Civilizations\", \"political_science\"], [\"Confusion\", \"psychology\"], [\"Concord_Prison_Experiment\", \"psychology\"], [\"Age_grade\", \"sociology\"], [\"Business_magnate\", \"anthropology\"], [\"Association_for_the_Advancement_of_Philosophy_and_Psychiatry\", \"psychology\"], [\"Middle-range_theory_(sociology)\", \"sociology\"], [\"Practice_theory\", \"sociology\"], [\"Lambda_Alpha\", \"anthropology\"], [\"Dutch_honours_system\", \"anthropology\"], [\"N\\u01c3ai,_the_Story_of_a_\\u01c3Kung_Woman\", \"anthropology\"], [\"Settlement_geography\", \"anthropology\"], [\"The_Last_Trackers_of_the_Outback\", \"anthropology\"], [\"Double_hermeneutic\", \"sociology\"], [\"Enculturation\", \"sociology\"], [\"Exemplar_theory\", \"psychology\"], [\"Gold_digger\", \"sociology\"], [\"Patrilineality\", \"anthropology\"], [\"Ferguson_effect\", \"political_science\"], [\"Heterogony_of_ends\", \"psychology\"], [\"History_of_capitalist_theory\", \"economics\"], [\"Bureau-shaping_model\", \"political_science\"], [\"Care_drain\", \"sociology\"], [\"Mid-South_Sociological_Association\", \"sociology\"], [\"Cognitive_archaeology\", \"anthropology\"], [\"Do-gooder_derogation\", \"psychology\"], [\"Economic_Botany\", \"anthropology\"], [\"Prickly_Paradigm_Press\", \"anthropology\"], [\"Experimental_political_science\", \"political_science\"], [\"Wizards_Project\", \"psychology\"], [\"Survey_of_Consumer_Finances\", \"economics\"], [\"America's_60_Families\", \"political_science\"], [\"Gossen's_second_law\", \"economics\"], [\"Fiscal_space\", \"economics\"], [\"Descriptive_phenomenological_method_in_psychology\", \"psychology\"], [\"Political_symbolism\", \"political_science\"], [\"Nethinim\", \"anthropology\"], [\"PEBL_(software)\", \"psychology\"], [\"Class_society\", \"anthropology\"], [\"Kremlinology\", \"political_science\"], [\"Amateur_professionalism\", \"sociology\"], [\"Social_mania\", \"sociology\"], [\"Laulasi_Island\", \"anthropology\"], [\"Prognathism\", \"anthropology\"], [\"Nocebo\", \"anthropology\"], [\"European_Union_Studies_Association\", \"political_science\"], [\"Child_Care_Management_System\", \"sociology\"], [\"Base_and_superstructure\", \"sociology\"], [\"Intelligence_and_public_policy\", \"political_science\"], [\"Reeler\", \"psychology\"], [\"International_Futures\", \"economics\"], [\"Martin-Quinn_score\", \"political_science\"], [\"Culture_of_capitalism\", \"anthropology\"], [\"Most_royal_candidate_theory\", \"anthropology\"], [\"Feminist_psychology\", \"psychology\"], [\"Credibility_thesis\", \"economics\"], [\"Sociology_in_Russia\", \"sociology\"], [\"Circle_of_the_Sun\", \"anthropology\"], [\"Masters_and_Johnson_Institute\", \"psychology\"], [\"Postmaterialism\", \"sociology\"], [\"Communazi\", \"political_science\"], [\"Cultural-historical_psychology\", \"psychology\"], [\"Particuliere_landerijen\", \"anthropology\"], [\"Environment_and_sexual_orientation\", \"psychology\"], [\"Age_at_risk\", \"economics\"], [\"Philosophical_ethology\", \"anthropology\"], [\"Convex_preferences\", \"economics\"], [\"Macroeconomic_regulation_and_control\", \"economics\"], [\"Help-seeking\", \"psychology\"], [\"Association_for_Politics_and_the_Life_Sciences\", \"political_science\"], [\"Hayandose\", \"anthropology\"], [\"Field_theory_(psychology)\", \"psychology\"], [\"Psychological_punishment\", \"psychology\"], [\"Questionnaire_construction\", \"political_science\"], [\"National_Longitudinal_Surveys\", \"economics\"], [\"Cand.scient.pol.\", \"political_science\"], [\"G\\u00f6ttingen_school_of_history\", \"anthropology\"], [\"Aversion_to_happiness\", \"anthropology\"], [\"Divided_government\", \"political_science\"], [\"Bipolar_Spectrum_Diagnostic_Scale\", \"psychology\"], [\"Documentary_collection\", \"economics\"], [\"Society_of_Anthropology_of_Paris\", \"anthropology\"], [\"Erikson's_stages_of_psychosocial_development\", \"psychology\"], [\"Psychologist\", \"psychology\"], [\"Formal_sociology\", \"sociology\"], [\"Hydrocarbon_economy\", \"economics\"], [\"Orthograde_posture\", \"anthropology\"], [\"Degenerated_workers'_state\", \"political_science\"], [\"Okun's_law\", \"economics\"], [\"Elitism\", \"political_science\"], [\"Sociology_of_law\", \"political_science\"], [\"Vidar_Halldorsson_(sociologist)\", \"sociology\"], [\"List_of_psychology_awards\", \"psychology\"], [\"Overton_window\", \"political_science\"], [\"Dieter_Hillert\", \"anthropology\"], [\"Psychosociology\", \"psychology\"], [\"Luxembourg_Income_Study\", \"economics\"], [\"Parable_of_the_broken_window\", \"economics\"], [\"Consort_kin\", \"anthropology\"], [\"Anthropologist\", \"anthropology\"], [\"Sandancer\", \"sociology\"], [\"Tail_suspension_test\", \"psychology\"], [\"Variable_rate_debt_obligation\", \"economics\"], [\"Dark_triad\", \"psychology\"], [\"Open_Energy_Modelling_Initiative\", \"economics\"], [\"Technobiophilia\", \"psychology\"], [\"Social_control\", \"political_science\"], [\"Knights_of_Rizal\", \"anthropology\"], [\"Proportionality_for_Solid_Coalitions\", \"political_science\"], [\"Serfdom\", \"anthropology\"], [\"Electronic_assessment\", \"psychology\"], [\"Science_capital\", \"sociology\"], [\"Fear_the_Boom_and_Bust\", \"economics\"], [\"Chapel_perilous\", \"psychology\"], [\"Biographical_research\", \"sociology\"], [\"Berliner_Lebensqualit\\u00e4tsprofil\", \"psychology\"], [\"Ch\\u00e2telain\", \"anthropology\"], [\"Export_performance\", \"economics\"], [\"John_M._Ackerman\", \"political_science\"], [\"Price_variance\", \"economics\"], [\"Identity_(philosophy)\", \"psychology\"], [\"Hunter-gatherer\", \"anthropology\"], [\"Center_for_Engaged_Democracy\", \"political_science\"], [\"Political_boss\", \"political_science\"], [\"Afo-A-Kom\", \"anthropology\"], [\"Maya_ICBG_bioprospecting_controversy\", \"anthropology\"], [\"Theory_of_storage\", \"economics\"], [\"Maximization_(psychology)\", \"psychology\"], [\"Tavistock_and_Portman_NHS_Foundation_Trust\", \"psychology\"], [\"Consulting_psychology\", \"psychology\"], [\"Marginal_factor_cost\", \"economics\"], [\"Libertarianism\", \"economics\"], [\"Mainstream\", \"sociology\"], [\"The_Mechanical_Bride\", \"anthropology\"], [\"Survey_of_Consumer_Expectations\", \"economics\"], [\"List_of_language_disorders\", \"psychology\"], [\"International_Society_for_the_Study_of_Personality_Disorders\", \"psychology\"], [\"Effective_number_of_parties\", \"political_science\"], [\"Economic_graph\", \"economics\"], [\"Human_placentophagy\", \"anthropology\"], [\"Mosuo_women\", \"anthropology\"], [\"Homology_(sociology)\", \"sociology\"], [\"Postmodernism_in_political_science\", \"political_science\"], [\"Package_loan\", \"economics\"], [\"Theory_of_conjoint_measurement\", \"economics\"], [\"Transgovernmentalism\", \"political_science\"], [\"Serer-Laalaa\", \"anthropology\"], [\"Travel_cost_analysis\", \"economics\"], [\"Lucas_paradox\", \"economics\"], [\"International_Association_of_Applied_Psychology\", \"psychology\"], [\"General_Health_Questionnaire\", \"psychology\"], [\"A_Wife_Among_Wives\", \"anthropology\"], [\"Covert_policing_in_the_United_Kingdom\", \"political_science\"], [\"Collective_Behavior_and_Social_Movements_Section_of_the_ASA\", \"sociology\"], [\"Social_organism\", \"sociology\"], [\"Sociodrama\", \"sociology\"], [\"Ithaca_Hours\", \"economics\"], [\"Visual_Anthropology_(journal)\", \"anthropology\"], [\"Media_linguistics\", \"anthropology\"], [\"Human_ecosystem\", \"anthropology\"], [\"History_of_anthropology\", \"anthropology\"], [\"World_Values_Survey\", \"political_science\"], [\"Mercantile_class\", \"anthropology\"], [\"Sexual_capital\", \"sociology\"], [\"Psychology's_Feminist_Voices\", \"psychology\"], [\"Prejudice_plus_power\", \"sociology\"], [\"Cultural_artifact\", \"anthropology\"], [\"Mus\\u00e9e_de_l'Homme\", \"anthropology\"], [\"Triangular_theory_of_love\", \"psychology\"], [\"Ukrop\", \"sociology\"], [\"Hellenic_studies\", \"anthropology\"], [\"Incremental_capital-output_ratio\", \"economics\"], [\"Reality_tunnel\", \"psychology\"], [\"Fourth_market\", \"economics\"], [\"Transnational_capitalist_class\", \"anthropology\"], [\"Critical_security_studies\", \"political_science\"], [\"Adult_ADHD_Self-Report_Scale\", \"psychology\"], [\"Master_of_Public_Policy_and_Administration\", \"political_science\"], [\"Multnomah_Community_Ability_Scale\", \"psychology\"], [\"Nation-building\", \"political_science\"], [\"Peter_Middlebrook\", \"political_science\"], [\"China_University_of_Political_Science_and_Law\", \"political_science\"], [\"Shanghai_University_of_Political_Science_and_Law\", \"political_science\"], [\"Regional_policy\", \"economics\"], [\"Social_position\", \"sociology\"], [\"Public_opinion_on_climate_change\", \"political_science\"], [\"Quantitative_research\", \"sociology\"], [\"Structured_note\", \"economics\"], [\"Scarcity_value\", \"economics\"], [\"Kettl_Commission\", \"political_science\"], [\"Kiyotaki\\u2013Moore_model\", \"economics\"], [\"Norwegian_porridge_feud\", \"anthropology\"], [\"Ballpark_model\", \"economics\"], [\"Bracha_L._Ettinger\", \"psychology\"], [\"Martha_Stout\", \"psychology\"], [\"Future_orientation\", \"psychology\"], [\"Cultural_criminology\", \"sociology\"], [\"Off_the_verandah\", \"anthropology\"], [\"Soci\\u00e9t\\u00e9_des_observateurs_de_l'homme\", \"anthropology\"], [\"Six-factor_Model_of_Psychological_Well-being\", \"psychology\"], [\"Androcentrism\", \"anthropology\"], [\"Data_collection_system\", \"political_science\"], [\"Matriarchal_religion\", \"anthropology\"], [\"Forte_Communication_Style_Profile\", \"psychology\"], [\"Secondary_conversion\", \"sociology\"], [\"Bott_Hypothesis\", \"sociology\"], [\"International_Association_for_the_Study_of_Child_Language\", \"psychology\"], [\"Institutional_theory\", \"political_science\"], [\"Social_media_use_in_African_politics\", \"political_science\"], [\"Real_net_output_ratio\", \"economics\"], [\"William_Benoit\", \"political_science\"], [\"Society_for_Psychophysiological_Research\", \"psychology\"], [\"Womanless_wedding\", \"anthropology\"], [\"Gender_disappointment\", \"psychology\"], [\"Grave_goods\", \"anthropology\"], [\"Phenomenology_(psychology)\", \"psychology\"], [\"Blackboxing\", \"sociology\"], [\"Self-love\", \"anthropology\"], [\"Authoritarianism\", \"political_science\"], [\"Senior_juz\", \"anthropology\"], [\"Psychological_statistics\", \"psychology\"], [\"Scope_limitation\", \"economics\"], [\"Mental_state\", \"psychology\"], [\"Vertical_and_horizontal_market\", \"economics\"], [\"Population_reconstruction\", \"sociology\"], [\"Sabah_Foundation\", \"political_science\"], [\"Anthropic_units\", \"sociology\"], [\"Solvay_Institute_of_Sociology\", \"sociology\"], [\"Ertu\\u011frul\", \"anthropology\"], [\"Bioculture\", \"sociology\"], [\"Processing_fluency_theory_of_aesthetic_pleasure\", \"psychology\"], [\"Participatory_GIS\", \"anthropology\"], [\"Big_tent\", \"political_science\"], [\"Midwest_Sociological_Society\", \"sociology\"], [\"Dixit\\u2013Stiglitz_model\", \"economics\"], [\"Hysteroid_dysphoria\", \"psychology\"], [\"Dodoth_Morning\", \"anthropology\"], [\"Cultural_retention\", \"anthropology\"], [\"Sexual_relationship_disorder\", \"psychology\"], [\"Little_World_Museum_of_Man\", \"anthropology\"], [\"Ecuadorian_Siona\", \"anthropology\"], [\"Necropolitics\", \"sociology\"], [\"Actor\\u2013network_theory\", \"sociology\"], [\"Political_class\", \"anthropology\"], [\"List_of_Timothy_Asch_films\", \"anthropology\"], [\"Backchannel_(linguistics)\", \"anthropology\"], [\"Celebrant_Foundation_and_Institute\", \"anthropology\"], [\"Orders,_decorations_and_medals_of_Albania\", \"anthropology\"], [\"Dramatica_(software)\", \"psychology\"], [\"Lao_Sung\", \"anthropology\"], [\"Theory_of_planned_behavior\", \"psychology\"], [\"Artificiality\", \"anthropology\"], [\"Linguistic_system\", \"anthropology\"], [\"Cause_c\\u00e9l\\u00e8bre\", \"political_science\"], [\"Silencing\", \"psychology\"], [\"Public_policy_doctrine\", \"political_science\"], [\"Neurodiversity\", \"sociology\"], [\"Statistical_geography\", \"anthropology\"], [\"Facial_feedback_hypothesis\", \"psychology\"], [\"Revealed_comparative_advantage\", \"economics\"], [\"Khazzoom\\u2013Brookes_postulate\", \"economics\"], [\"Sticky_mouse\", \"psychology\"], [\"Alfred_Gell\", \"anthropology\"], [\"Computational_politics\", \"political_science\"], [\"Anthrozoology\", \"anthropology\"], [\"Test_(assessment)\", \"psychology\"], [\"Tunnel_vision_(metaphor)\", \"psychology\"], [\"Chamberlinian_monopolistic_competition\", \"economics\"], [\"Marriage_at_Cana\", \"anthropology\"], [\"Research_report\", \"political_science\"], [\"Feminism_and_racism\", \"psychology\"], [\"Ideographic_Approach\", \"psychology\"], [\"Marginal_product\", \"economics\"], [\"Behavior_analysis_of_child_development\", \"psychology\"], [\"Hominization\", \"anthropology\"], [\"Milieu_control\", \"sociology\"], [\"Arthur_B._VanGundy\", \"psychology\"], [\"Gibrat's_law\", \"economics\"], [\"Boston_Graduate_School_of_Psychoanalysis\", \"psychology\"], [\"The_Three_Christs_of_Ypsilanti\", \"psychology\"], [\"Mature_market\", \"economics\"], [\"Analog_observation\", \"anthropology\"], [\"Keynes_effect\", \"economics\"], [\"Double_empathy_problem\", \"psychology\"], [\"Inclusive_fitness_in_humans\", \"anthropology\"], [\"Skhul_and_Qafzeh_hominins\", \"anthropology\"], [\"Mutualism_(economic_theory)\", \"economics\"], [\"Capital_guarantee\", \"economics\"], [\"A-process\", \"psychology\"], [\"Public_participation_(decision_making)\", \"sociology\"], [\"Ranked_society\", \"anthropology\"], [\"Seasoned_equity_offering\", \"economics\"], [\"Positivism\", \"sociology\"], [\"Character_computing\", \"psychology\"], [\"Folk_linguistics\", \"anthropology\"], [\"Guilt\\u2013shame\\u2013fear_spectrum_of_cultures\", \"sociology\"], [\"Successor_ideology\", \"political_science\"], [\"Edward_de_Bono\", \"psychology\"], [\"Maya_Research_Program\", \"anthropology\"], [\"List_of_social_psychologists\", \"psychology\"], [\"Ecstasy_(emotion)\", \"psychology\"], [\"Psychic_numbing\", \"psychology\"], [\"Pantouflage\", \"political_science\"], [\"Cosmos_and_Psyche\", \"psychology\"], [\"Digital_public_goods\", \"economics\"], [\"Social_welfare_model\", \"political_science\"], [\"Excorporation\", \"sociology\"], [\"Timeline_of_psychology\", \"psychology\"], [\"Cautelary_jurisprudence\", \"political_science\"], [\"Les_Accords_de_Bella\", \"anthropology\"], [\"Assume_a_can_opener\", \"economics\"], [\"Quantitative_psychology\", \"psychology\"], [\"The_Button_(Reddit)\", \"psychology\"], [\"Least-Cost_Theory\", \"economics\"], [\"Adjective_Check_List\", \"psychology\"], [\"Socioemotional_adaptation_theory\", \"psychology\"], [\"Metcalfe's_law\", \"economics\"], [\"Development_theory\", \"sociology\"], [\"Flying_monkeys_(popular_psychology)\", \"psychology\"], [\"Institute_for_International_Law_of_Peace_and_Armed_Conflict\", \"political_science\"], [\"Board_for_Anthropological_Research\", \"anthropology\"], [\"Misbehaving_Science\", \"psychology\"], [\"LoopCo\", \"economics\"], [\"Zooarchaeology\", \"anthropology\"], [\"Marginal_man_theory\", \"sociology\"], [\"Desakota\", \"sociology\"], [\"Diamond-water_paradox\", \"economics\"], [\"African_communalism\", \"anthropology\"], [\"Household,_Income_and_Labour_Dynamics_in_Australia_Survey\", \"economics\"], [\"Wits_Centre_for_Diversity_Studies\", \"sociology\"], [\"Elaboration\", \"psychology\"], [\"The_medium_is_the_message\", \"anthropology\"], [\"Unilineality\", \"anthropology\"], [\"Valuation:_Measuring_and_Managing_the_Value_of_Companies\", \"economics\"], [\"Visible_minority\", \"sociology\"], [\"Activity-specific_approach_in_temperament_research\", \"psychology\"], [\"Biopower\", \"political_science\"], [\"Cognitive_chronometry\", \"psychology\"], [\"Interpersonal_neurobiology\", \"psychology\"], [\"Dispersed_knowledge\", \"economics\"], [\"Computer-assisted_survey_information_collection\", \"political_science\"], [\"Hesitation\", \"psychology\"], [\"Adlerian\", \"psychology\"], [\"Monetae_cudendae_ratio\", \"economics\"], [\"Hostile_worlds\", \"sociology\"], [\"Cantometrics\", \"anthropology\"], [\"Selective_abstraction\", \"psychology\"], [\"Demographic_transition\", \"anthropology\"], [\"Charg\\u00e9_de_mission\", \"political_science\"], [\"Outline_of_linguistics\", \"anthropology\"], [\"International_Association_for_Cross-Cultural_Psychology\", \"psychology\"], [\"Skin_gap\", \"anthropology\"], [\"Topic_and_comment\", \"anthropology\"], [\"Stigler_Commission\", \"economics\"], [\"List_of_mammals_displaying_homosexual_behavior\", \"anthropology\"], [\"EV/Ebitda\", \"economics\"], [\"Political_climate\", \"political_science\"], [\"Baroda_Development_Screening_Test\", \"psychology\"], [\"Compliance_gaining\", \"sociology\"], [\"International_Journal_of_the_Sociology_of_Language\", \"sociology\"], [\"Woozle_effect\", \"sociology\"], [\"Harrod\\u2013Domar_model\", \"economics\"], [\"Marginal_profit\", \"economics\"], [\"Cultural_identity\", \"anthropology\"], [\"On_Narcissism\", \"psychology\"], [\"Sociology\", \"sociology\"], [\"Transkeian_honours_system\", \"anthropology\"], [\"Dragan_Sakan\", \"psychology\"], [\"Micromega_rule\", \"political_science\"], [\"Courtroom_Workgroup\", \"political_science\"], [\"Berkeley_school_of_political_theory\", \"political_science\"], [\"Threshold_price-point\", \"economics\"], [\"Marsh_Chapel_Experiment\", \"psychology\"], [\"Tunggal_panaluan\", \"anthropology\"], [\"Philip_Morris_v._Uruguay\", \"political_science\"], [\"Mourning_and_Melancholia\", \"psychology\"], [\"Kenneth_Boulding's_evolutionary_perspective\", \"economics\"], [\"Holger_Henke\", \"political_science\"], [\"Environment_and_sexual_orientation\", \"anthropology\"], [\"Progressive_theory_of_capital\", \"economics\"], [\"Functional_approach\", \"psychology\"], [\"Electronic_remittance_advice\", \"economics\"], [\"Isolates\", \"anthropology\"], [\"Philosophy_of_psychiatry\", \"psychology\"], [\"Kaldor's_growth_laws\", \"economics\"], [\"Ethnomathematics\", \"anthropology\"], [\"Minimal_effects_hypothesis\", \"political_science\"], [\"Philosophy_of_futility\", \"economics\"], [\"Harvard_Medical_African_Expedition_(1926\\u20131927)\", \"anthropology\"], [\"Pedigree_collapse\", \"anthropology\"], [\"Cultural_competency_training\", \"anthropology\"]]};\n",
       "        dt_args = eval_functions(dt_args);\n",
       "        table = $('#131e99c9-78f0-4b5f-8b51-06b68ab0d5d5').DataTable(dt_args);\n",
       "    });\n",
       "})\n",
       "</script>\n",
       "</div>\n"
      ],
      "text/plain": [
       "                                          Article Name         discipline\n",
       "0                                 Andean_civilizations       anthropology\n",
       "1    Sociological_Association_of_Aotearoa_(New_Zeal...          sociology\n",
       "2                                   Thematic_structure       anthropology\n",
       "3                              Bargaining_model_of_war          economics\n",
       "4                                       Director's_law          economics\n",
       "..                                                 ...                ...\n",
       "495                         Minimal_effects_hypothesis  political_science\n",
       "496                             Philosophy_of_futility          economics\n",
       "497     Harvard_Medical_African_Expedition_(1926–1927)       anthropology\n",
       "498                                  Pedigree_collapse       anthropology\n",
       "499                       Cultural_competency_training       anthropology\n",
       "\n",
       "[500 rows x 2 columns]"
      ]
     },
     "execution_count": 31,
     "metadata": {},
     "output_type": "execute_result"
    }
   ],
   "source": [
    "from itables import init_notebook_mode\n",
    "init_notebook_mode(all_interactive=True)\n",
    "import pandas as pd\n",
    "from itables import show\n",
    "\n",
    "df = pd.read_pickle('/home/matiasp/University/m2/socialgraphs2021-Matias/project/wiki_df.pickle')\n",
    "sub = df[['name', 'parent']].sample(500).reset_index(drop = True)\n",
    "sub = sub.rename(columns={'name':'Article Name', 'parent':'discipline'})\n",
    "sub"
   ]
  },
  {
   "cell_type": "code",
   "execution_count": null,
   "id": "c0e68868",
   "metadata": {},
   "outputs": [],
   "source": []
  }
 ],
 "metadata": {
  "celltoolbar": "Edit Metadata",
  "kernelspec": {
   "display_name": "Python 3.9.7 64-bit ('pyenv': conda)",
   "language": "python",
   "name": "python397jvsc74a57bd0794ed8d0b773cbcd7b7ec7f3b705e2b7a8437127647cc51e7d6c4b4e7ca1b777"
  },
  "language_info": {
   "codemirror_mode": {
    "name": "ipython",
    "version": 3
   },
   "file_extension": ".py",
   "mimetype": "text/x-python",
   "name": "python",
   "nbconvert_exporter": "python",
   "pygments_lexer": "ipython3",
   "version": "3.9.7"
  }
 },
 "nbformat": 4,
 "nbformat_minor": 5
}
