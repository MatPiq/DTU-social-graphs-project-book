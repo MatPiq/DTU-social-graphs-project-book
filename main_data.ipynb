{
 "cells": [
  {
   "cell_type": "markdown",
   "id": "d927ba2a",
   "metadata": {},
   "source": [
    "# Data Description"
   ]
  },
  {
   "cell_type": "markdown",
   "id": "588a1475",
   "metadata": {},
   "source": [
    "For our project, we collected wikipedia articles corresponding to five major social science diciplines: Economics, Political Science, Anthropology, Sociology and Psychology. To do this we used the tool [petscan](https://petscan.wmflabs.org/) which enabled us to find all the sub-categories/articles for each discipline. Petscan can be access both through a web-interface or programmatically through for example Python. "
   ]
  },
  {
   "cell_type": "markdown",
   "id": "3ebbdf55",
   "metadata": {
    "ExecuteTime": {
     "end_time": "2021-11-30T09:25:13.503800Z",
     "start_time": "2021-11-30T09:25:13.244100Z"
    }
   },
   "source": [
    "![petscan](petscan.gif \"PetScan Demonstration\")"
   ]
  },
  {
   "cell_type": "markdown",
   "id": "037d3a88",
   "metadata": {},
   "source": [
    "The table bellow shows the five first observations of our data-set, which includes the following variables:\n",
    "\n",
    "* `name`: The name of the Wikipedia article.\n",
    "* `parent`: The discipline to which the article belongs.\n",
    "* `edges`: Contains all links to another Wikipedia page.\n",
    "* `text`: The raw text of the article.\n",
    "* `cleaned_text`: Punctuation removed, lower-cased.\n",
    "* `lemmatized`: The cleaned text in lemmatized form, stop words removed.\n",
    "* `gcc`: Dummy for if the article is part of the giant component in the network.\n",
    "\n",
    "The data can be downloaded from the following [link](https://drive.google.com/file/d/1U0Q8eMvp50crf383ykE1anB5J4oq_mrc/view?usp=sharing)."
   ]
  },
  {
   "cell_type": "code",
   "execution_count": 4,
   "id": "ac2d54cf",
   "metadata": {
    "ExecuteTime": {
     "end_time": "2021-11-30T09:30:04.328092Z",
     "start_time": "2021-11-30T09:29:57.285410Z"
    },
    "scrolled": true,
    "tags": [
     "hide-input"
    ]
   },
   "outputs": [
    {
     "ename": "FileNotFoundError",
     "evalue": "[Errno 2] No such file or directory: '/home/matiasp/University/m2/socialgraphs2021-Matias/project/df_preprocessed.obj'",
     "output_type": "error",
     "traceback": [
      "\u001b[0;31m---------------------------------------------------------------------------\u001b[0m",
      "\u001b[0;31mFileNotFoundError\u001b[0m                         Traceback (most recent call last)",
      "\u001b[0;32m<ipython-input-4-8a59f5682e9c>\u001b[0m in \u001b[0;36m<module>\u001b[0;34m\u001b[0m\n\u001b[1;32m      5\u001b[0m \u001b[0;34m\u001b[0m\u001b[0m\n\u001b[1;32m      6\u001b[0m \u001b[0;34m\u001b[0m\u001b[0m\n\u001b[0;32m----> 7\u001b[0;31m \u001b[0mdf\u001b[0m \u001b[0;34m=\u001b[0m \u001b[0mpd\u001b[0m\u001b[0;34m.\u001b[0m\u001b[0mread_pickle\u001b[0m\u001b[0;34m(\u001b[0m\u001b[0;34m'/home/matiasp/University/m2/socialgraphs2021-Matias/project/df_preprocessed.obj'\u001b[0m\u001b[0;34m)\u001b[0m\u001b[0;34m\u001b[0m\u001b[0;34m\u001b[0m\u001b[0m\n\u001b[0m\u001b[1;32m      8\u001b[0m \u001b[0mdf\u001b[0m \u001b[0;34m=\u001b[0m \u001b[0mdf\u001b[0m\u001b[0;34m.\u001b[0m\u001b[0mdrop\u001b[0m\u001b[0;34m(\u001b[0m\u001b[0mcolumns\u001b[0m\u001b[0;34m=\u001b[0m\u001b[0;34m[\u001b[0m\u001b[0;34m'categories'\u001b[0m\u001b[0;34m,\u001b[0m \u001b[0;34m'depth'\u001b[0m\u001b[0;34m,\u001b[0m \u001b[0;34m'tokens'\u001b[0m\u001b[0;34m,\u001b[0m \u001b[0;34m'Unnamed: 0'\u001b[0m\u001b[0;34m]\u001b[0m\u001b[0;34m)\u001b[0m\u001b[0;34m.\u001b[0m\u001b[0mdropna\u001b[0m\u001b[0;34m(\u001b[0m\u001b[0;34m)\u001b[0m\u001b[0;34m\u001b[0m\u001b[0;34m\u001b[0m\u001b[0m\n\u001b[1;32m      9\u001b[0m \u001b[0mdf\u001b[0m\u001b[0;34m[\u001b[0m\u001b[0;34m'edges'\u001b[0m\u001b[0;34m]\u001b[0m \u001b[0;34m=\u001b[0m \u001b[0mdf\u001b[0m\u001b[0;34m[\u001b[0m\u001b[0;34m'edges'\u001b[0m\u001b[0;34m]\u001b[0m\u001b[0;34m.\u001b[0m\u001b[0mapply\u001b[0m\u001b[0;34m(\u001b[0m\u001b[0;32mlambda\u001b[0m \u001b[0mx\u001b[0m\u001b[0;34m:\u001b[0m \u001b[0mliteral_eval\u001b[0m\u001b[0;34m(\u001b[0m\u001b[0mx\u001b[0m\u001b[0;34m)\u001b[0m\u001b[0;34m)\u001b[0m\u001b[0;34m\u001b[0m\u001b[0;34m\u001b[0m\u001b[0m\n",
      "\u001b[0;32m/opt/anaconda3/lib/python3.8/site-packages/pandas/io/pickle.py\u001b[0m in \u001b[0;36mread_pickle\u001b[0;34m(filepath_or_buffer, compression, storage_options)\u001b[0m\n\u001b[1;32m    183\u001b[0m     \"\"\"\n\u001b[1;32m    184\u001b[0m     \u001b[0mexcs_to_catch\u001b[0m \u001b[0;34m=\u001b[0m \u001b[0;34m(\u001b[0m\u001b[0mAttributeError\u001b[0m\u001b[0;34m,\u001b[0m \u001b[0mImportError\u001b[0m\u001b[0;34m,\u001b[0m \u001b[0mModuleNotFoundError\u001b[0m\u001b[0;34m,\u001b[0m \u001b[0mTypeError\u001b[0m\u001b[0;34m)\u001b[0m\u001b[0;34m\u001b[0m\u001b[0;34m\u001b[0m\u001b[0m\n\u001b[0;32m--> 185\u001b[0;31m     with get_handle(\n\u001b[0m\u001b[1;32m    186\u001b[0m         \u001b[0mfilepath_or_buffer\u001b[0m\u001b[0;34m,\u001b[0m\u001b[0;34m\u001b[0m\u001b[0;34m\u001b[0m\u001b[0m\n\u001b[1;32m    187\u001b[0m         \u001b[0;34m\"rb\"\u001b[0m\u001b[0;34m,\u001b[0m\u001b[0;34m\u001b[0m\u001b[0;34m\u001b[0m\u001b[0m\n",
      "\u001b[0;32m/opt/anaconda3/lib/python3.8/site-packages/pandas/io/common.py\u001b[0m in \u001b[0;36mget_handle\u001b[0;34m(path_or_buf, mode, encoding, compression, memory_map, is_text, errors, storage_options)\u001b[0m\n\u001b[1;32m    649\u001b[0m         \u001b[0;32melse\u001b[0m\u001b[0;34m:\u001b[0m\u001b[0;34m\u001b[0m\u001b[0;34m\u001b[0m\u001b[0m\n\u001b[1;32m    650\u001b[0m             \u001b[0;31m# Binary mode\u001b[0m\u001b[0;34m\u001b[0m\u001b[0;34m\u001b[0m\u001b[0;34m\u001b[0m\u001b[0m\n\u001b[0;32m--> 651\u001b[0;31m             \u001b[0mhandle\u001b[0m \u001b[0;34m=\u001b[0m \u001b[0mopen\u001b[0m\u001b[0;34m(\u001b[0m\u001b[0mhandle\u001b[0m\u001b[0;34m,\u001b[0m \u001b[0mioargs\u001b[0m\u001b[0;34m.\u001b[0m\u001b[0mmode\u001b[0m\u001b[0;34m)\u001b[0m\u001b[0;34m\u001b[0m\u001b[0;34m\u001b[0m\u001b[0m\n\u001b[0m\u001b[1;32m    652\u001b[0m         \u001b[0mhandles\u001b[0m\u001b[0;34m.\u001b[0m\u001b[0mappend\u001b[0m\u001b[0;34m(\u001b[0m\u001b[0mhandle\u001b[0m\u001b[0;34m)\u001b[0m\u001b[0;34m\u001b[0m\u001b[0;34m\u001b[0m\u001b[0m\n\u001b[1;32m    653\u001b[0m \u001b[0;34m\u001b[0m\u001b[0m\n",
      "\u001b[0;31mFileNotFoundError\u001b[0m: [Errno 2] No such file or directory: '/home/matiasp/University/m2/socialgraphs2021-Matias/project/df_preprocessed.obj'"
     ]
    }
   ],
   "source": [
    "import pandas as pd\n",
    "import numpy as np\n",
    "from ast import literal_eval\n",
    "from collections import defaultdict\n",
    "\n",
    "\n",
    "df = pd.read_pickle('/home/matiasp/University/m2/socialgraphs2021-Matias/project/df_preprocessed.obj')\n",
    "df = df.drop(columns=['categories', 'depth', 'tokens', 'Unnamed: 0']).dropna()\n",
    "df['edges'] = df['edges'].apply(lambda x: literal_eval(x))\n",
    "df.set_index('name').head()\n",
    "#df.to_html('temp.html')"
   ]
  },
  {
   "cell_type": "markdown",
   "id": "2ab1d5e4",
   "metadata": {},
   "source": [
    "In the table bellow we display summary statistics including the average number of articles for each discipline, number of edges and word count. As can be seen the distribution is rather skewed, with Antropology for example having more than double the amount of articles compared to Political Science. "
   ]
  },
  {
   "cell_type": "code",
   "execution_count": 62,
   "id": "c8f8a3f0",
   "metadata": {
    "tags": [
     "hide-input"
    ]
   },
   "outputs": [
    {
     "data": {
      "text/html": [
       "<div>\n",
       "<style scoped>\n",
       "    .dataframe tbody tr th:only-of-type {\n",
       "        vertical-align: middle;\n",
       "    }\n",
       "\n",
       "    .dataframe tbody tr th {\n",
       "        vertical-align: top;\n",
       "    }\n",
       "\n",
       "    .dataframe thead th {\n",
       "        text-align: right;\n",
       "    }\n",
       "</style>\n",
       "<table border=\"1\" class=\"dataframe\">\n",
       "  <thead>\n",
       "    <tr style=\"text-align: right;\">\n",
       "      <th></th>\n",
       "      <th>Number of articles</th>\n",
       "      <th>Avg. edges</th>\n",
       "      <th>Avg. word count</th>\n",
       "    </tr>\n",
       "    <tr>\n",
       "      <th>Discipline</th>\n",
       "      <th></th>\n",
       "      <th></th>\n",
       "      <th></th>\n",
       "    </tr>\n",
       "  </thead>\n",
       "  <tbody>\n",
       "    <tr>\n",
       "      <th>political_science</th>\n",
       "      <td>418</td>\n",
       "      <td>218.65</td>\n",
       "      <td>12748.76</td>\n",
       "    </tr>\n",
       "    <tr>\n",
       "      <th>economics</th>\n",
       "      <td>675</td>\n",
       "      <td>82.67</td>\n",
       "      <td>4399.29</td>\n",
       "    </tr>\n",
       "    <tr>\n",
       "      <th>sociology</th>\n",
       "      <td>684</td>\n",
       "      <td>137.08</td>\n",
       "      <td>9135.81</td>\n",
       "    </tr>\n",
       "    <tr>\n",
       "      <th>anthropology</th>\n",
       "      <td>1198</td>\n",
       "      <td>193.84</td>\n",
       "      <td>10567.26</td>\n",
       "    </tr>\n",
       "    <tr>\n",
       "      <th>psychology</th>\n",
       "      <td>955</td>\n",
       "      <td>127.90</td>\n",
       "      <td>10447.76</td>\n",
       "    </tr>\n",
       "  </tbody>\n",
       "</table>\n",
       "</div>"
      ],
      "text/plain": [
       "                   Number of articles  Avg. edges  Avg. word count\n",
       "Discipline                                                        \n",
       "political_science                 418      218.65         12748.76\n",
       "economics                         675       82.67          4399.29\n",
       "sociology                         684      137.08          9135.81\n",
       "anthropology                     1198      193.84         10567.26\n",
       "psychology                        955      127.90         10447.76"
      ]
     },
     "execution_count": 62,
     "metadata": {},
     "output_type": "execute_result"
    }
   ],
   "source": [
    "#Create descriptives table\n",
    "tab = defaultdict(list)\n",
    "for discipline in df['parent'].unique():\n",
    "    avg_edges = []\n",
    "    avg_pagelen = []\n",
    "    for row in df.loc[df['parent']==discipline].iterrows():\n",
    "        avg_edges.append(len(row[1]['edges']))\n",
    "        avg_pagelen.append(len(row[1]['tokens']))\n",
    "    \n",
    "    tab['Discipline'].append(discipline)\n",
    "    tab['Number of articles'].append(df.loc[df['parent']==discipline].shape[0])\n",
    "    tab['Avg. edges'].append(np.mean(avg_edges))\n",
    "    tab['Avg. word count'].append(np.mean(avg_pagelen))\n",
    "tab = pd.DataFrame(tab)\n",
    "tab.set_index('Discipline').round(2)"
   ]
  }
 ],
 "metadata": {
  "celltoolbar": "Edit Metadata",
  "kernelspec": {
   "display_name": "Python 3",
   "language": "python",
   "name": "python3"
  },
  "language_info": {
   "codemirror_mode": {
    "name": "ipython",
    "version": 3
   },
   "file_extension": ".py",
   "mimetype": "text/x-python",
   "name": "python",
   "nbconvert_exporter": "python",
   "pygments_lexer": "ipython3",
   "version": "3.8.8"
  }
 },
 "nbformat": 4,
 "nbformat_minor": 5
}
