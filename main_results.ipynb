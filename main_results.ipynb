{
 "cells": [
  {
   "cell_type": "markdown",
   "id": "844dc6ee",
   "metadata": {},
   "source": [
    "Main Results\n",
    "=========="
   ]
  },
  {
   "cell_type": "markdown",
   "id": "592d0969",
   "metadata": {},
   "source": [
    "Here we present the most interesting findings from our project. For a more detailed coverage please visit the explainer notebook.\n",
    "\n",
    "* [`1. Network Visualization`](#part1)\n",
    "* [`2. Understanding Communities and what they talk about`](#part2)\n",
    "* [`3. Content analysis: Discovering salient topics.`](#part3)\n",
    "* [`4. socialscience2vec: Node and Document Embeddings`](#part4)"
   ]
  },
  {
   "cell_type": "markdown",
   "id": "0ec36dbd",
   "metadata": {},
   "source": [
    "<a id='part1'></a>\n",
    "## 1. Network Visualization"
   ]
  },
  {
   "cell_type": "markdown",
   "id": "7b5ff6e8",
   "metadata": {},
   "source": [
    "In the plot bellow we visualize the network. Nodes represent the Wikipedia pages and are colored by the discipline from which they originated. An edge between two nodes is drawn if a page has a hyperlink to another page. "
   ]
  },
  {
   "cell_type": "markdown",
   "id": "230cd371",
   "metadata": {},
   "source": [
    "To further understand the Network structure we also plot the most central pages both in the Network as a whole but also within disciplines. "
   ]
  },
  {
   "cell_type": "markdown",
   "id": "29d5a86d",
   "metadata": {},
   "source": [
    "<a id='part2'></a>\n",
    "## 2. Understanding Communities and what they talk about"
   ]
  },
  {
   "cell_type": "markdown",
   "id": "6575256f",
   "metadata": {},
   "source": [
    "For each Wiki page, we also collected the body of text. In order to better understand what the communities represent, we used a multionomial logistic model to predict the community using the text as input features. By looking at the words with the highest partial effects on the prediction of some community we can get an idea of what separates them."
   ]
  },
  {
   "cell_type": "markdown",
   "id": "640c6fe0",
   "metadata": {},
   "source": [
    "<a id='part3'></a>\n",
    "## 3. Content analysis: Discovering salient topics"
   ]
  },
  {
   "cell_type": "markdown",
   "id": "6cc1bb70",
   "metadata": {},
   "source": []
  },
  {
   "cell_type": "markdown",
   "id": "b186fa90",
   "metadata": {},
   "source": [
    "<a id='part4'></a>\n",
    "## 4. socialscience2vec: Node and Document Embedding"
   ]
  },
  {
   "cell_type": "markdown",
   "id": "b25135c4",
   "metadata": {},
   "source": [
    "As a last step in our analysis we used `doc2vec` and `node2vec` to create a meaningful 100-dimensional vector representations of our data. The `doc2vec` model is fit on the text corpus while the `node2vec` model uses the hyperlink network, in both cases the each point represents one Wiki page. In this sense, they represent the same object but different kinds of relations between them. The document embeddings can be understood as the semantic similarity between the pages.  and the node embeddings the    To visualize the embeddings, we project it on a lower dimensional space using [tensorboard](https://tensorboard.dev/) and can be accessed through the following links:\n",
    "\n",
    "* [Node embeddings](https://projector.tensorflow.org/?config=https://raw.githubusercontent.com/MatPiq/social-graphs-embeddings-data/main/document_config.json)\n",
    "* [Document embeddings](https://projector.tensorflow.org/?config=https://raw.githubusercontent.com/MatPiq/social-graphs-embeddings-data/main/document_config.json)"
   ]
  },
  {
   "cell_type": "markdown",
   "id": "df1f98e3",
   "metadata": {},
   "source": [
    "We recommend coloring the points in the projection according to their discipline. This can be done by setting the colormap in the upper-left corner."
   ]
  },
  {
   "cell_type": "markdown",
   "id": "19025837",
   "metadata": {},
   "source": [
    "<img src=\"https://i.ibb.co/QYgGw72/embedding-guide1.png\" width=\"250\"/>"
   ]
  },
  {
   "cell_type": "markdown",
   "id": "a03cde16",
   "metadata": {},
   "source": [
    "Besides clicking on a point to see which page it belongs to, one can also search for the name of a page and find its neighbouring points. This is done in the upper-right corner as in the example bellow. "
   ]
  },
  {
   "cell_type": "markdown",
   "id": "38edb67a",
   "metadata": {},
   "source": [
    "<img src=\"https://i.ibb.co/n084MFW/embedding-guide2.png\" width=\"250\"/>"
   ]
  }
 ],
 "metadata": {
  "kernelspec": {
   "display_name": "Python 3.9.7 64-bit ('pyenv': conda)",
   "language": "python",
   "name": "python397jvsc74a57bd0794ed8d0b773cbcd7b7ec7f3b705e2b7a8437127647cc51e7d6c4b4e7ca1b777"
  },
  "language_info": {
   "codemirror_mode": {
    "name": "ipython",
    "version": 3
   },
   "file_extension": ".py",
   "mimetype": "text/x-python",
   "name": "python",
   "nbconvert_exporter": "python",
   "pygments_lexer": "ipython3",
   "version": "3.9.7"
  }
 },
 "nbformat": 4,
 "nbformat_minor": 5
}
